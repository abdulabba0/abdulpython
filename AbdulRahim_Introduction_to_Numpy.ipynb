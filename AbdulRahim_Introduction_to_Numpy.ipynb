{
  "cells": [
    {
      "cell_type": "markdown",
      "metadata": {
        "id": "view-in-github",
        "colab_type": "text"
      },
      "source": [
        "<a href=\"https://colab.research.google.com/github/abdulabba0/abdulpython/blob/main/AbdulRahim_Introduction_to_Numpy.ipynb\" target=\"_parent\"><img src=\"https://colab.research.google.com/assets/colab-badge.svg\" alt=\"Open In Colab\"/></a>"
      ]
    },
    {
      "cell_type": "markdown",
      "metadata": {
        "id": "XU_5LdPKx_LP"
      },
      "source": [
        "# **Introduction to Numpy for Data Analytics**\n",
        "\n",
        "> ## **What is Numpy**\n",
        "Numpy stand for Numerical PYTHON, it is a fundamental library for numerical computing in Python. It provide support for large multidimensional array and matrices, along with an etensive collection of mathematical functions to perform operations efficiently.\n",
        "\n",
        "Numpy is widely use in Data Analytics and Finance, engineering etc.\n",
        "\n",
        "\n",
        "> ## **Why Use Numpy**\n"
      ]
    },
    {
      "cell_type": "code",
      "execution_count": null,
      "metadata": {
        "id": "GvjRfCga3XKc"
      },
      "outputs": [],
      "source": [
        "import numpy as np\n",
        "import pandas as pd\n",
        "import cv2\n",
        "import matplotlib.pyplot as plt\n",
        "from PIL import Image"
      ]
    },
    {
      "cell_type": "code",
      "execution_count": null,
      "metadata": {
        "colab": {
          "base_uri": "https://localhost:8080/"
        },
        "id": "MZEpUDFv3-20",
        "outputId": "8e747277-a492-4fde-a61b-727c547774f5"
      },
      "outputs": [
        {
          "name": "stdout",
          "output_type": "stream",
          "text": [
            "2.0.2\n"
          ]
        }
      ],
      "source": [
        "print(np.__version__)"
      ]
    },
    {
      "cell_type": "markdown",
      "metadata": {
        "id": "KiCJjqlB4Vd0"
      },
      "source": [
        "### **Creating a Numpy Array**"
      ]
    },
    {
      "cell_type": "code",
      "execution_count": null,
      "metadata": {
        "colab": {
          "base_uri": "https://localhost:8080/"
        },
        "id": "UewmVgHY4wDj",
        "outputId": "8a821d6c-eca2-4ee8-b5f9-63989bbb89ea"
      },
      "outputs": [
        {
          "data": {
            "text/plain": [
              "array([1, 2, 3, 4])"
            ]
          },
          "execution_count": 4,
          "metadata": {},
          "output_type": "execute_result"
        }
      ],
      "source": [
        "# Basic Numpy Array\n",
        "# creating a numpy array\n",
        "# vector or 1 dimensional array\n",
        "\n",
        "arr = np.array([1, 2, 3, 4])\n",
        "arr"
      ]
    },
    {
      "cell_type": "markdown",
      "metadata": {
        "id": "1W2pSBMc4yPc"
      },
      "source": [
        "### **Array Properties**"
      ]
    },
    {
      "cell_type": "code",
      "execution_count": null,
      "metadata": {
        "colab": {
          "base_uri": "https://localhost:8080/"
        },
        "id": "SG9PXQ2Z4221",
        "outputId": "258b9d34-fed0-4a58-821d-716d4a33c039"
      },
      "outputs": [
        {
          "name": "stdout",
          "output_type": "stream",
          "text": [
            "The shape of the array is:  (4,)\n",
            "Array Dimension:  1\n",
            "Array Data Type:  int64\n"
          ]
        }
      ],
      "source": [
        "# checking the shape of the array\n",
        "print(f\"The shape of the array is:  {arr.shape}\")\n",
        "print(f\"Array Dimension:  {arr.ndim}\")\n",
        "print(f\"Array Data Type:  {arr.dtype}\")"
      ]
    },
    {
      "cell_type": "code",
      "execution_count": null,
      "metadata": {
        "id": "Avt7PmAV5gsk"
      },
      "outputs": [],
      "source": [
        "# 2 Dimensional Array\n",
        "arr2 = np.array([\n",
        " [1, 2, 3],\n",
        " [2, 3, 4],\n",
        " [3, 4, 5],\n",
        " [4, 5, 6]\n",
        "                 ])"
      ]
    },
    {
      "cell_type": "code",
      "execution_count": null,
      "metadata": {
        "colab": {
          "base_uri": "https://localhost:8080/"
        },
        "id": "_62ogwTs6QrU",
        "outputId": "f84b8218-20b4-43f1-e3be-fe4feb5396a9"
      },
      "outputs": [
        {
          "name": "stdout",
          "output_type": "stream",
          "text": [
            "The shape of the array is:  (4, 3)\n",
            "Array Dimension:  2\n"
          ]
        }
      ],
      "source": [
        "print(f\"The shape of the array is:  {arr2.shape}\")\n",
        "print(f\"Array Dimension:  {arr2.ndim}\")"
      ]
    },
    {
      "cell_type": "code",
      "execution_count": null,
      "metadata": {
        "id": "pAXFruPE7ZZT"
      },
      "outputs": [],
      "source": [
        "dim_3_array = np.array([\n",
        "    [[2, 3, 4],\n",
        "     [4, 5, 6]],\n",
        "    [[4, 5, 7],\n",
        "    [3, 6, 7]]\n",
        "])"
      ]
    },
    {
      "cell_type": "code",
      "execution_count": null,
      "metadata": {
        "colab": {
          "base_uri": "https://localhost:8080/"
        },
        "id": "WkplgrxU7v4G",
        "outputId": "ca1e58ae-6e87-4dc6-b735-389a8ea9ca8f"
      },
      "outputs": [
        {
          "name": "stdout",
          "output_type": "stream",
          "text": [
            "The shape of the array is:  (2, 2, 3)\n",
            "Array Dimension:  3\n"
          ]
        }
      ],
      "source": [
        "print(f\"The shape of the array is:  {dim_3_array.shape}\")\n",
        "print(f\"Array Dimension:  {dim_3_array.ndim}\")"
      ]
    },
    {
      "cell_type": "markdown",
      "metadata": {
        "id": "s-M7xVek8xqP"
      },
      "source": [
        "### **Different ways of creating an Array in Numpy**\n",
        "\n",
        "> You can create a numpt array from a\n",
        "- Python List\n",
        "- Python Tuple\n",
        "- Random float array using np.random\n",
        "- we can create a range of array using  np.arange\n",
        "- using np.full\n",
        "- using np.zeros\n",
        "- using np.linspace\n",
        "- using np.ones"
      ]
    },
    {
      "cell_type": "code",
      "execution_count": null,
      "metadata": {
        "colab": {
          "base_uri": "https://localhost:8080/"
        },
        "id": "VmUKSq_R9SH_",
        "outputId": "da3a0b02-32a9-4d6d-8352-7e39f7d1434b"
      },
      "outputs": [
        {
          "data": {
            "text/plain": [
              "array([[0., 0., 0.],\n",
              "       [0., 0., 0.],\n",
              "       [0., 0., 0.]])"
            ]
          },
          "execution_count": 10,
          "metadata": {},
          "output_type": "execute_result"
        }
      ],
      "source": [
        "# creating an array of zeros\n",
        "np.zeros((3, 3))"
      ]
    },
    {
      "cell_type": "code",
      "execution_count": null,
      "metadata": {
        "colab": {
          "base_uri": "https://localhost:8080/"
        },
        "id": "kJb4yg9_93Ok",
        "outputId": "2d00ac42-ae6a-4367-f65c-19d10fd1d9de"
      },
      "outputs": [
        {
          "data": {
            "text/plain": [
              "array([[1., 1., 1.],\n",
              "       [1., 1., 1.],\n",
              "       [1., 1., 1.]])"
            ]
          },
          "execution_count": 11,
          "metadata": {},
          "output_type": "execute_result"
        }
      ],
      "source": [
        "# creating an array of ones\n",
        "np.ones((3, 3))"
      ]
    },
    {
      "cell_type": "code",
      "execution_count": null,
      "metadata": {
        "colab": {
          "base_uri": "https://localhost:8080/"
        },
        "id": "Oq3GnztC-G7T",
        "outputId": "07d0b7cc-a37c-4288-cc8f-075990491aa2"
      },
      "outputs": [
        {
          "data": {
            "text/plain": [
              "array([ 1,  3,  5,  7,  9, 11, 13, 15, 17, 19, 21, 23, 25, 27, 29, 31, 33,\n",
              "       35, 37, 39, 41, 43, 45, 47, 49, 51, 53, 55, 57, 59, 61, 63, 65, 67,\n",
              "       69, 71, 73, 75, 77, 79, 81, 83, 85, 87, 89, 91, 93, 95, 97, 99])"
            ]
          },
          "execution_count": 12,
          "metadata": {},
          "output_type": "execute_result"
        }
      ],
      "source": [
        "# creating an array of certain range of number'\n",
        "np.arange(1, 100, 2)"
      ]
    },
    {
      "cell_type": "code",
      "execution_count": null,
      "metadata": {
        "colab": {
          "base_uri": "https://localhost:8080/"
        },
        "id": "xdgW7xEN-kqi",
        "outputId": "ed173d18-c06a-4a06-bf15-f967641e278b"
      },
      "outputs": [
        {
          "data": {
            "text/plain": [
              "array([0.        , 0.01010101, 0.02020202, 0.03030303, 0.04040404,\n",
              "       0.05050505, 0.06060606, 0.07070707, 0.08080808, 0.09090909,\n",
              "       0.1010101 , 0.11111111, 0.12121212, 0.13131313, 0.14141414,\n",
              "       0.15151515, 0.16161616, 0.17171717, 0.18181818, 0.19191919,\n",
              "       0.2020202 , 0.21212121, 0.22222222, 0.23232323, 0.24242424,\n",
              "       0.25252525, 0.26262626, 0.27272727, 0.28282828, 0.29292929,\n",
              "       0.3030303 , 0.31313131, 0.32323232, 0.33333333, 0.34343434,\n",
              "       0.35353535, 0.36363636, 0.37373737, 0.38383838, 0.39393939,\n",
              "       0.4040404 , 0.41414141, 0.42424242, 0.43434343, 0.44444444,\n",
              "       0.45454545, 0.46464646, 0.47474747, 0.48484848, 0.49494949,\n",
              "       0.50505051, 0.51515152, 0.52525253, 0.53535354, 0.54545455,\n",
              "       0.55555556, 0.56565657, 0.57575758, 0.58585859, 0.5959596 ,\n",
              "       0.60606061, 0.61616162, 0.62626263, 0.63636364, 0.64646465,\n",
              "       0.65656566, 0.66666667, 0.67676768, 0.68686869, 0.6969697 ,\n",
              "       0.70707071, 0.71717172, 0.72727273, 0.73737374, 0.74747475,\n",
              "       0.75757576, 0.76767677, 0.77777778, 0.78787879, 0.7979798 ,\n",
              "       0.80808081, 0.81818182, 0.82828283, 0.83838384, 0.84848485,\n",
              "       0.85858586, 0.86868687, 0.87878788, 0.88888889, 0.8989899 ,\n",
              "       0.90909091, 0.91919192, 0.92929293, 0.93939394, 0.94949495,\n",
              "       0.95959596, 0.96969697, 0.97979798, 0.98989899, 1.        ])"
            ]
          },
          "execution_count": 13,
          "metadata": {},
          "output_type": "execute_result"
        }
      ],
      "source": [
        "# creating an evenly space array\n",
        "np.linspace(0, 1, num=100)"
      ]
    },
    {
      "cell_type": "code",
      "execution_count": null,
      "metadata": {
        "colab": {
          "base_uri": "https://localhost:8080/"
        },
        "id": "pdM3j5TOqsop",
        "outputId": "e89b269d-1ee6-416d-e465-8c26493b947e"
      },
      "outputs": [
        {
          "name": "stdout",
          "output_type": "stream",
          "text": [
            "Data Type:  int64\n",
            "Checking data type using python  <class 'numpy.ndarray'>\n"
          ]
        }
      ],
      "source": [
        "# creating a numpy array using python list\n",
        "\n",
        "py_list = [1, 2, 3, 4, 5]\n",
        "np_list = np.array(py_list)\n",
        "print(\"Data Type: \", np_list.dtype)\n",
        "print(\"Checking data type using python \", type(np_list))"
      ]
    },
    {
      "cell_type": "code",
      "execution_count": null,
      "metadata": {
        "colab": {
          "base_uri": "https://localhost:8080/"
        },
        "id": "AKwgXcZirdwO",
        "outputId": "94aa50e4-fb6f-462c-f55b-ccbc867f0b00"
      },
      "outputs": [
        {
          "name": "stdout",
          "output_type": "stream",
          "text": [
            "Data Type:  int64\n",
            "Checking data type using python  <class 'numpy.ndarray'>\n"
          ]
        }
      ],
      "source": [
        "# creating a numpy array using python tuple\n",
        "\n",
        "py_tuple = (1, 2, 3, 4, 5)\n",
        "np_tuple = np.array(py_tuple)\n",
        "print(\"Data Type: \", np_tuple.dtype)\n",
        "print(\"Checking data type using python \", type(np_tuple))"
      ]
    },
    {
      "cell_type": "code",
      "execution_count": null,
      "metadata": {
        "colab": {
          "base_uri": "https://localhost:8080/"
        },
        "id": "Hb8NYEwar0s2",
        "outputId": "b1b354af-51a4-49db-d5c7-6da848d80d91"
      },
      "outputs": [
        {
          "data": {
            "text/plain": [
              "0.7305793007832645"
            ]
          },
          "execution_count": 16,
          "metadata": {},
          "output_type": "execute_result"
        }
      ],
      "source": [
        "# creating an array using python rnadom module\n",
        "\n",
        "rand_mod = np.random.random()\n",
        "rand_mod"
      ]
    },
    {
      "cell_type": "code",
      "execution_count": null,
      "metadata": {
        "colab": {
          "base_uri": "https://localhost:8080/"
        },
        "id": "bgOxDuI0sZK0",
        "outputId": "f5b70e2e-2f0c-4c23-875e-09653281ea22"
      },
      "outputs": [
        {
          "data": {
            "text/plain": [
              "array([[0.07161286, 0.61957571, 0.71099076],\n",
              "       [0.61887749, 0.49217149, 0.68737377],\n",
              "       [0.01779789, 0.85131804, 0.38829158]])"
            ]
          },
          "execution_count": 17,
          "metadata": {},
          "output_type": "execute_result"
        }
      ],
      "source": [
        "multidim_random = np.random.random((3, 3))\n",
        "multidim_random"
      ]
    },
    {
      "cell_type": "code",
      "execution_count": null,
      "metadata": {
        "colab": {
          "base_uri": "https://localhost:8080/"
        },
        "id": "3Tv94C0Xst4p",
        "outputId": "d75374d1-53b0-4951-a1dc-5f25328710eb"
      },
      "outputs": [
        {
          "data": {
            "text/plain": [
              "array([[86, 81, 84],\n",
              "       [70, 91,  3],\n",
              "       [97, 31, 22]])"
            ]
          },
          "execution_count": 18,
          "metadata": {},
          "output_type": "execute_result"
        }
      ],
      "source": [
        "# creating random integers\n",
        "rand_int = np.random.randint(1, 100, size=(3, 3))\n",
        "rand_int"
      ]
    },
    {
      "cell_type": "code",
      "execution_count": null,
      "metadata": {
        "colab": {
          "base_uri": "https://localhost:8080/"
        },
        "id": "JmQeO8_Vs8ea",
        "outputId": "844441d3-46ac-4a0c-a11a-96aaa7a721de"
      },
      "outputs": [
        {
          "data": {
            "text/plain": [
              "array([[0.49954761, 0.55217659, 0.33099873],\n",
              "       [0.56196232, 0.96908711, 0.61066501],\n",
              "       [0.16071763, 0.8458037 , 0.00513691],\n",
              "       [0.58199546, 0.70806196, 0.20948782]])"
            ]
          },
          "execution_count": 19,
          "metadata": {},
          "output_type": "execute_result"
        }
      ],
      "source": [
        "# random samples\n",
        "np.random.random_sample((4, 3))"
      ]
    },
    {
      "cell_type": "code",
      "execution_count": null,
      "metadata": {
        "colab": {
          "base_uri": "https://localhost:8080/"
        },
        "id": "Ct8Rt2UFtXWA",
        "outputId": "499855e9-70c4-4a49-807b-fed3d77b2132"
      },
      "outputs": [
        {
          "data": {
            "text/plain": [
              "array([[5, 5, 5],\n",
              "       [5, 5, 5],\n",
              "       [5, 5, 5]])"
            ]
          },
          "execution_count": 20,
          "metadata": {},
          "output_type": "execute_result"
        }
      ],
      "source": [
        "# using np.full\n",
        "\n",
        "full_array = np.full((3, 3), 5)\n",
        "full_array"
      ]
    },
    {
      "cell_type": "markdown",
      "metadata": {
        "id": "bHe7NBsztm6F"
      },
      "source": [
        "### **Array Indexing and Slicing**"
      ]
    },
    {
      "cell_type": "code",
      "execution_count": null,
      "metadata": {
        "colab": {
          "base_uri": "https://localhost:8080/"
        },
        "id": "o1aQAde3uoBq",
        "outputId": "b147a279-cff0-434a-9e0a-b03cd37af76d"
      },
      "outputs": [
        {
          "name": "stdout",
          "output_type": "stream",
          "text": [
            "First Element:  1\n",
            "Last Element:  4\n"
          ]
        }
      ],
      "source": [
        "# acessing a 1 dimensional array\n",
        "print(\"First Element: \", arr[0])\n",
        "print(\"Last Element: \", arr[-1])"
      ]
    },
    {
      "cell_type": "code",
      "execution_count": null,
      "metadata": {
        "colab": {
          "base_uri": "https://localhost:8080/"
        },
        "id": "l8JU5d7Vts_l",
        "outputId": "4f30bc4b-157c-43bd-fbbf-9b727c2682bd"
      },
      "outputs": [
        {
          "name": "stdout",
          "output_type": "stream",
          "text": [
            "2 : 2  22\n",
            "2 : 1  84\n"
          ]
        }
      ],
      "source": [
        "# acessing index 2 of first dimension and index 2 of second dimension\n",
        "print(\"2 : 2 \", rand_int[2][2])\n",
        "print(\"2 : 1 \", rand_int[0][2])"
      ]
    },
    {
      "cell_type": "code",
      "execution_count": null,
      "metadata": {
        "colab": {
          "base_uri": "https://localhost:8080/"
        },
        "id": "WmTrf-HVvEnt",
        "outputId": "13d38f63-2fd5-4581-e239-6993ccc71a3d"
      },
      "outputs": [
        {
          "data": {
            "text/plain": [
              "array([[[52, 93, 15, 72],\n",
              "        [61, 21, 83, 87],\n",
              "        [75, 75, 88, 24],\n",
              "        [ 3, 22, 53,  2]],\n",
              "\n",
              "       [[88, 30, 38,  2],\n",
              "        [64, 60, 21, 33],\n",
              "        [76, 58, 22, 89],\n",
              "        [49, 91, 59, 42]],\n",
              "\n",
              "       [[92, 60, 80, 15],\n",
              "        [62, 62, 47, 62],\n",
              "        [51, 55, 64,  3],\n",
              "        [51,  7, 21, 73]]])"
            ]
          },
          "execution_count": 23,
          "metadata": {},
          "output_type": "execute_result"
        }
      ],
      "source": [
        "# acessing a 3 dimensional array\n",
        "np.random.seed(42)\n",
        "three_dim_arr = np.random.randint(1, 100, size=(3, 4, 4))\n",
        "three_dim_arr"
      ]
    },
    {
      "cell_type": "markdown",
      "metadata": {
        "id": "aynh9825x6no"
      },
      "source": [
        "### Array Slicing"
      ]
    },
    {
      "cell_type": "code",
      "execution_count": null,
      "metadata": {
        "colab": {
          "base_uri": "https://localhost:8080/"
        },
        "id": "phUegxO-xd0k",
        "outputId": "fad22b67-6868-4d9a-9d01-df397bfa4779"
      },
      "outputs": [
        {
          "data": {
            "text/plain": [
              "array([[[52, 93, 15, 72],\n",
              "        [61, 21, 83, 87],\n",
              "        [75, 75, 88, 24],\n",
              "        [ 3, 22, 53,  2]],\n",
              "\n",
              "       [[88, 30, 38,  2],\n",
              "        [64, 60, 21, 33],\n",
              "        [76, 58, 22, 89],\n",
              "        [49, 91, 59, 42]]])"
            ]
          },
          "execution_count": 24,
          "metadata": {},
          "output_type": "execute_result"
        }
      ],
      "source": [
        "three_dim_arr[:2]"
      ]
    },
    {
      "cell_type": "code",
      "execution_count": null,
      "metadata": {
        "colab": {
          "base_uri": "https://localhost:8080/"
        },
        "id": "8RCjE4IdwDPS",
        "outputId": "db242efa-d855-4f07-9839-63e9bcd0d45e"
      },
      "outputs": [
        {
          "data": {
            "text/plain": [
              "array([[[52, 93],\n",
              "        [61, 21]],\n",
              "\n",
              "       [[88, 30],\n",
              "        [64, 60]]])"
            ]
          },
          "execution_count": 25,
          "metadata": {},
          "output_type": "execute_result"
        }
      ],
      "source": [
        "three_dim_arr[:2, :2, :2]"
      ]
    },
    {
      "cell_type": "code",
      "execution_count": null,
      "metadata": {
        "colab": {
          "base_uri": "https://localhost:8080/"
        },
        "id": "10bd0xB8ydmR",
        "outputId": "534817fa-d58b-42b9-e83c-22008fe0617f"
      },
      "outputs": [
        {
          "name": "stdout",
          "output_type": "stream",
          "text": [
            "Equal to :  [52 72 88 24 22  2 88 30 38  2 64 60 76 58 22 42 92 60 80 62 62 62 64]\n",
            "Greater than :  [52 93 15 72 61 21 83 87 75 75 88 24  3 22 53 88 30 38 64 60 21 33 76 58\n",
            " 22 89 49 91 59 42 92 60 80 15 62 62 47 62 51 55 64  3 51  7 21 73]\n",
            "Less than :  [3 2 2 3]\n"
          ]
        }
      ],
      "source": [
        "print(\"Equal to : \", three_dim_arr[three_dim_arr % 2 == 0])\n",
        "print(\"Greater than : \", three_dim_arr[three_dim_arr > 2])\n",
        "print(\"Less than : \", three_dim_arr[three_dim_arr < 4])"
      ]
    },
    {
      "cell_type": "markdown",
      "metadata": {
        "id": "BxlOJ0X_yPP5"
      },
      "source": [
        "### **Array Operations**\n",
        "> Basic Operation\n",
        "- Addition\n",
        "- Subtraction\n",
        "- Multiplication\n",
        "- Division\n",
        "\n",
        "> Statistical Operation\n",
        "- Mean\n",
        "- Median\n",
        "- Mode\n",
        "- sum\n",
        "- standard deviation\n",
        "- sum\n",
        "\n",
        "> Trigonometry Operation\n",
        "- sin\n",
        "- cosine\n",
        "- Tangent\n",
        "\n",
        "> Others\n",
        "- log\n",
        "- exponent\n",
        "- round\n",
        "- ceil\n",
        "- floor"
      ]
    },
    {
      "cell_type": "markdown",
      "metadata": {
        "id": "COcGhm4W3gHi"
      },
      "source": [
        "### **Simple Operation**"
      ]
    },
    {
      "cell_type": "code",
      "execution_count": null,
      "metadata": {
        "id": "k-u_ya3B0wdF"
      },
      "outputs": [],
      "source": [
        "op1 = np.array([1, 2, 3, 4])\n",
        "op2 = np.array([5, 6, 7, 8])"
      ]
    },
    {
      "cell_type": "code",
      "execution_count": null,
      "metadata": {
        "colab": {
          "base_uri": "https://localhost:8080/"
        },
        "id": "H1AezpJGyA67",
        "outputId": "1f51e279-b7fe-47ab-e926-8c78a76d161d"
      },
      "outputs": [
        {
          "name": "stdout",
          "output_type": "stream",
          "text": [
            "Addition:  [ 6  8 10 12]\n"
          ]
        }
      ],
      "source": [
        "# Addition\n",
        "\n",
        "print(\"Addition: \", op1 + op2)"
      ]
    },
    {
      "cell_type": "code",
      "execution_count": null,
      "metadata": {
        "colab": {
          "base_uri": "https://localhost:8080/"
        },
        "id": "ZbepdnMe0z_D",
        "outputId": "d647cfae-773b-462d-b17d-64e31884f840"
      },
      "outputs": [
        {
          "name": "stdout",
          "output_type": "stream",
          "text": [
            "Subtraction:  [-4 -4 -4 -4]\n"
          ]
        }
      ],
      "source": [
        "# Subtraction\n",
        "print(\"Subtraction: \", op1 - op2)"
      ]
    },
    {
      "cell_type": "code",
      "execution_count": null,
      "metadata": {
        "colab": {
          "base_uri": "https://localhost:8080/"
        },
        "id": "nIGcBis318LQ",
        "outputId": "e2eb035a-779d-45e4-b1b7-bbd15bc74e07"
      },
      "outputs": [
        {
          "name": "stdout",
          "output_type": "stream",
          "text": [
            "Multiplication:  [ 5 12 21 32]\n"
          ]
        }
      ],
      "source": [
        "# Multiplication\n",
        "print(\"Multiplication: \", op1 * op2)"
      ]
    },
    {
      "cell_type": "code",
      "execution_count": null,
      "metadata": {
        "colab": {
          "base_uri": "https://localhost:8080/"
        },
        "id": "CYqI3rAx2Ff_",
        "outputId": "e6d27a51-8e62-4d92-eece-593a38703f57"
      },
      "outputs": [
        {
          "name": "stdout",
          "output_type": "stream",
          "text": [
            "Multiplication:  [0.2        0.33333333 0.42857143 0.5       ]\n"
          ]
        }
      ],
      "source": [
        "# Division\n",
        "print(\"Multiplication: \", op1 / op2)"
      ]
    },
    {
      "cell_type": "code",
      "execution_count": null,
      "metadata": {
        "colab": {
          "base_uri": "https://localhost:8080/"
        },
        "id": "tjjP5wJ62URA",
        "outputId": "40efe372-7cd0-4eea-8960-84a0c7777d7d"
      },
      "outputs": [
        {
          "name": "stdout",
          "output_type": "stream",
          "text": [
            "Multiplication:  [0.2        0.33333333 0.42857143 0.5       ]\n"
          ]
        }
      ],
      "source": [
        "# Division\n",
        "print(\"Multiplication: \", op1 / op2)"
      ]
    },
    {
      "cell_type": "code",
      "execution_count": null,
      "metadata": {
        "colab": {
          "base_uri": "https://localhost:8080/"
        },
        "id": "9pLX0zr82hph",
        "outputId": "d24420a0-a051-45fa-ff50-45f018b9f296"
      },
      "outputs": [
        {
          "name": "stdout",
          "output_type": "stream",
          "text": [
            "Multiplication:  [    1    64  2187 65536]\n"
          ]
        }
      ],
      "source": [
        "# Division\n",
        "print(\"Multiplication: \", op1 ** op2)"
      ]
    },
    {
      "cell_type": "markdown",
      "metadata": {
        "id": "1ovURPV62p6k"
      },
      "source": [
        "### Matrix Multiplication"
      ]
    },
    {
      "cell_type": "code",
      "execution_count": null,
      "metadata": {
        "id": "kajs_k5324hB"
      },
      "outputs": [],
      "source": [
        "matrix_1 = np.array([\n",
        "    [1, 2, 3],\n",
        "    [4, 5, 6]\n",
        "])\n",
        "\n",
        "matrix_2 = np.array([\n",
        "    [7, 8],\n",
        "    [9, 10],\n",
        "    [11, 12]\n",
        "])\n"
      ]
    },
    {
      "cell_type": "code",
      "execution_count": null,
      "metadata": {
        "colab": {
          "base_uri": "https://localhost:8080/"
        },
        "id": "slLxy_b13KxV",
        "outputId": "99f478af-3b3a-4952-ca69-4e55ed5719ad"
      },
      "outputs": [
        {
          "data": {
            "text/plain": [
              "array([[ 58,  64],\n",
              "       [139, 154]])"
            ]
          },
          "execution_count": 35,
          "metadata": {},
          "output_type": "execute_result"
        }
      ],
      "source": [
        "# matrix multiplication\n",
        "np.dot(matrix_1, matrix_2)"
      ]
    },
    {
      "cell_type": "code",
      "execution_count": null,
      "metadata": {
        "colab": {
          "base_uri": "https://localhost:8080/"
        },
        "id": "Wz5LyyVZ3Kz6",
        "outputId": "dc208073-8e28-4cd8-ee78-b10f023f9d03"
      },
      "outputs": [
        {
          "data": {
            "text/plain": [
              "array([[ 58,  64],\n",
              "       [139, 154]])"
            ]
          },
          "execution_count": 36,
          "metadata": {},
          "output_type": "execute_result"
        }
      ],
      "source": [
        "# matrix multiplication\n",
        "matrix_1 @ matrix_2"
      ]
    },
    {
      "cell_type": "code",
      "execution_count": null,
      "metadata": {
        "colab": {
          "base_uri": "https://localhost:8080/"
        },
        "id": "yMs6cRrf3UWu",
        "outputId": "fa0b8c43-8518-4a4d-9f44-02c332105d8f"
      },
      "outputs": [
        {
          "data": {
            "text/plain": [
              "array([[ 58,  64],\n",
              "       [139, 154]])"
            ]
          },
          "execution_count": 37,
          "metadata": {},
          "output_type": "execute_result"
        }
      ],
      "source": [
        "# matrix multiplication\n",
        "matrix_1.dot(matrix_2)"
      ]
    },
    {
      "cell_type": "markdown",
      "metadata": {
        "id": "vMhqf52-3lFb"
      },
      "source": [
        "### **Statistical Operation**\n"
      ]
    },
    {
      "cell_type": "code",
      "execution_count": null,
      "metadata": {
        "colab": {
          "base_uri": "https://localhost:8080/"
        },
        "id": "8LIYn75w3rum",
        "outputId": "6d1ddee7-06c4-4f36-9da8-c3db8bc4b016"
      },
      "outputs": [
        {
          "data": {
            "text/plain": [
              "array([[52, 93, 15, 72, 61, 21],\n",
              "       [83, 87, 75, 75, 88, 24],\n",
              "       [ 3, 22, 53,  2, 88, 30],\n",
              "       [38,  2, 64, 60, 21, 33],\n",
              "       [76, 58, 22, 89, 49, 91],\n",
              "       [59, 42, 92, 60, 80, 15],\n",
              "       [62, 62, 47, 62, 51, 55],\n",
              "       [64,  3, 51,  7, 21, 73],\n",
              "       [39, 18,  4, 89, 60, 14],\n",
              "       [ 9, 90, 53,  2, 84, 92],\n",
              "       [60, 71, 44,  8, 47, 35],\n",
              "       [78, 81, 36, 50,  4,  2],\n",
              "       [ 6, 54,  4, 54, 93, 63],\n",
              "       [18, 90, 44, 34, 74, 62],\n",
              "       [14, 95, 48, 15, 72, 78],\n",
              "       [87, 62, 40, 85, 80, 82],\n",
              "       [53, 24, 26, 89, 60, 41],\n",
              "       [29, 15, 45, 65, 89, 71],\n",
              "       [ 9, 88,  1,  8, 88, 63],\n",
              "       [11, 81,  8, 35, 35, 33],\n",
              "       [ 5, 41, 28,  7, 73, 72],\n",
              "       [12, 34, 33, 48, 23, 62],\n",
              "       [88, 37, 99, 44, 86, 91],\n",
              "       [35, 65, 99, 47, 78,  3],\n",
              "       [ 1,  5, 90, 14, 27,  9],\n",
              "       [79, 15, 90, 42, 77, 51],\n",
              "       [63, 96, 52, 96,  4, 94],\n",
              "       [23, 15, 43, 29, 36, 13],\n",
              "       [32, 71, 59, 86, 28, 66],\n",
              "       [42, 45, 62, 57,  6, 28],\n",
              "       [28, 44, 84, 30, 62, 75],\n",
              "       [92, 89, 62, 97,  1, 27],\n",
              "       [62, 77,  3, 70, 72, 27],\n",
              "       [ 9, 62, 37, 97, 51, 44],\n",
              "       [24, 79, 59, 32, 96, 88],\n",
              "       [52, 62, 58, 52, 12, 39],\n",
              "       [ 2,  3, 56, 81, 59,  2],\n",
              "       [ 2, 92, 54, 87, 96, 97],\n",
              "       [ 1, 19,  2, 53, 44, 90],\n",
              "       [32, 70, 32, 68, 55, 75],\n",
              "       [56, 17, 38, 24, 69, 98],\n",
              "       [70, 86, 11, 16, 97, 73],\n",
              "       [59, 70, 80, 93,  3, 20],\n",
              "       [59, 36, 19, 90, 67, 19],\n",
              "       [20, 96, 71, 52, 33, 40],\n",
              "       [39, 82,  1, 11, 92, 57],\n",
              "       [89, 50, 23, 31, 94, 42],\n",
              "       [99,  7, 16, 90, 60,  2],\n",
              "       [ 1, 48, 12, 69, 37, 32],\n",
              "       [ 9, 99, 19, 48, 80,  3],\n",
              "       [20, 24, 54, 33, 24, 75],\n",
              "       [72, 36, 38, 84, 99, 89],\n",
              "       [99, 25, 93, 18, 82, 66],\n",
              "       [54, 35, 80, 61, 41, 33],\n",
              "       [68, 33, 14, 21, 48, 20],\n",
              "       [ 8,  7, 67, 17, 33, 48],\n",
              "       [76, 59, 86, 22, 30, 38],\n",
              "       [51, 54,  8, 27, 27, 98],\n",
              "       [21, 30, 97, 28, 64, 97],\n",
              "       [69, 61, 48, 19,  4, 35],\n",
              "       [64, 49, 17, 44, 92, 30],\n",
              "       [93, 46,  6, 99, 37, 24],\n",
              "       [93, 46, 53, 95, 99, 60],\n",
              "       [97, 63, 85, 32, 87, 33],\n",
              "       [67, 18, 25, 95, 54, 58],\n",
              "       [67, 46, 24, 32, 47, 86],\n",
              "       [23, 66, 27,  2, 90, 17],\n",
              "       [33,  9, 43, 48, 39, 93],\n",
              "       [42, 26, 99, 50, 25, 24],\n",
              "       [13, 60,  7, 57, 36, 45],\n",
              "       [20, 65,  8, 16, 14, 76],\n",
              "       [87, 15, 92, 98, 66, 32],\n",
              "       [87, 63, 86, 51, 25, 58],\n",
              "       [63, 62, 22, 58, 58, 86],\n",
              "       [49, 52, 42, 70, 15, 54],\n",
              "       [60, 97,  8, 53, 60,  5],\n",
              "       [68,  6, 96, 94, 47, 99],\n",
              "       [55, 40, 52, 16, 13, 30],\n",
              "       [19, 17, 63, 19, 92, 58],\n",
              "       [55, 90, 90, 62, 23,  9],\n",
              "       [12,  1, 58,  1, 34, 96],\n",
              "       [48, 89,  1, 16, 61, 64],\n",
              "       [63, 69, 22, 93, 67, 76],\n",
              "       [26, 16, 51, 86, 57, 29],\n",
              "       [78, 92, 69, 47, 94, 62],\n",
              "       [69, 76, 16, 90, 90, 48],\n",
              "       [85, 39, 33, 94, 23, 10],\n",
              "       [69, 34, 52, 95, 10, 19],\n",
              "       [58, 96,  1, 69,  4, 16],\n",
              "       [24, 80,  2, 92, 32, 91],\n",
              "       [84, 24, 12, 50, 35, 33],\n",
              "       [33, 61, 51, 43, 12, 67],\n",
              "       [65, 33, 40, 74, 43, 44],\n",
              "       [29, 13, 12, 95, 46,  2],\n",
              "       [35, 87, 81, 90,  8, 93],\n",
              "       [26, 74, 90, 34,  7, 68],\n",
              "       [58, 75, 29, 36, 89, 21],\n",
              "       [36, 10, 73, 24, 64, 99],\n",
              "       [49, 99, 36, 82, 96, 24],\n",
              "       [23, 62, 96, 37, 12, 55]])"
            ]
          },
          "execution_count": 38,
          "metadata": {},
          "output_type": "execute_result"
        }
      ],
      "source": [
        "# mean\n",
        "np.random.seed(42)\n",
        "stat_arr = np.random.randint(1, 100, size=(100, 6))\n",
        "stat_arr"
      ]
    },
    {
      "cell_type": "code",
      "execution_count": null,
      "metadata": {
        "colab": {
          "base_uri": "https://localhost:8080/"
        },
        "id": "-LQAwh8N3rye",
        "outputId": "f71f64ad-8ff5-4d33-ea34-ca462588fa8c"
      },
      "outputs": [
        {
          "data": {
            "text/plain": [
              "np.float64(49.86)"
            ]
          },
          "execution_count": 39,
          "metadata": {},
          "output_type": "execute_result"
        }
      ],
      "source": [
        "# mean\n",
        "stat_arr.mean()"
      ]
    },
    {
      "cell_type": "code",
      "execution_count": null,
      "metadata": {
        "colab": {
          "base_uri": "https://localhost:8080/"
        },
        "id": "IWyIAOAc4K5g",
        "outputId": "3588dc6d-6b59-40d9-f277-a543115f0c82"
      },
      "outputs": [
        {
          "data": {
            "text/plain": [
              "np.float64(50.5)"
            ]
          },
          "execution_count": 40,
          "metadata": {},
          "output_type": "execute_result"
        }
      ],
      "source": [
        "# Median\n",
        "np.median(stat_arr)"
      ]
    },
    {
      "cell_type": "markdown",
      "metadata": {
        "id": "FZp1oDCHxcLy"
      },
      "source": [
        "## **Loading File in Numpy**"
      ]
    },
    {
      "cell_type": "code",
      "execution_count": null,
      "metadata": {
        "colab": {
          "base_uri": "https://localhost:8080/"
        },
        "id": "8JhTZHAwxlnr",
        "outputId": "a3a6bd11-0230-4c42-819d-bec328852eef"
      },
      "outputs": [
        {
          "data": {
            "text/plain": [
              "array([[2., 0., 0., ..., 0., 0., 0.],\n",
              "       [1., 0., 0., ..., 0., 0., 0.],\n",
              "       [0., 0., 0., ..., 0., 0., 0.],\n",
              "       ...,\n",
              "       [4., 0., 0., ..., 0., 0., 0.],\n",
              "       [5., 0., 0., ..., 0., 0., 0.],\n",
              "       [6., 0., 0., ..., 0., 0., 0.]])"
            ]
          },
          "execution_count": 90,
          "metadata": {},
          "output_type": "execute_result"
        }
      ],
      "source": [
        "# loading a csv file using numpy\n",
        "import os\n",
        "\n",
        "if 'mnist_test.csv' in os.listdir('sample_data') :\n",
        "  data = np.loadtxt('sample_data/mnist_test.csv', delimiter=',', skiprows=1)\n",
        "\n",
        "data"
      ]
    },
    {
      "cell_type": "code",
      "execution_count": null,
      "metadata": {
        "colab": {
          "base_uri": "https://localhost:8080/"
        },
        "id": "dLrTxxnTy6zA",
        "outputId": "731dbe83-7c01-4364-b3e1-aea4b5a63263"
      },
      "outputs": [
        {
          "name": "stdout",
          "output_type": "stream",
          "text": [
            "Shape :  (9999, 785)\n",
            "Dimension :  2\n",
            "Data Type :  float64\n"
          ]
        }
      ],
      "source": [
        "# checking number of rows and columns\n",
        "print(\"Shape : \", data.shape)\n",
        "\n",
        "# checking the number of dimension\n",
        "print(\"Dimension : \", data.ndim)\n",
        "\n",
        "# checking the data type\n",
        "print(\"Data Type : \", data.dtype)"
      ]
    },
    {
      "cell_type": "code",
      "execution_count": null,
      "metadata": {
        "colab": {
          "base_uri": "https://localhost:8080/",
          "height": 220
        },
        "id": "0UqD3Z9dyt6a",
        "outputId": "eb3e3a7a-59dd-4566-fd62-31ce04652728"
      },
      "outputs": [
        {
          "ename": "ValueError",
          "evalue": "setting an array element with a sequence. The requested array has an inhomogeneous shape after 1 dimensions. The detected shape was (18289442,) + inhomogeneous part.",
          "output_type": "error",
          "traceback": [
            "\u001b[0;31m---------------------------------------------------------------------------\u001b[0m",
            "\u001b[0;31mValueError\u001b[0m                                Traceback (most recent call last)",
            "\u001b[0;32m<ipython-input-52-6470a8fea634>\u001b[0m in \u001b[0;36m<cell line: 0>\u001b[0;34m()\u001b[0m\n\u001b[1;32m      4\u001b[0m   \u001b[0mcsv_file\u001b[0m \u001b[0;34m=\u001b[0m \u001b[0mlist\u001b[0m\u001b[0;34m(\u001b[0m\u001b[0mcsv\u001b[0m\u001b[0;34m.\u001b[0m\u001b[0mreader\u001b[0m\u001b[0;34m(\u001b[0m\u001b[0mfile\u001b[0m\u001b[0;34m.\u001b[0m\u001b[0mread\u001b[0m\u001b[0;34m(\u001b[0m\u001b[0;34m)\u001b[0m\u001b[0;34m,\u001b[0m \u001b[0mdelimiter\u001b[0m\u001b[0;34m=\u001b[0m\u001b[0;34m','\u001b[0m\u001b[0;34m)\u001b[0m\u001b[0;34m)\u001b[0m\u001b[0;34m\u001b[0m\u001b[0;34m\u001b[0m\u001b[0m\n\u001b[1;32m      5\u001b[0m \u001b[0;34m\u001b[0m\u001b[0m\n\u001b[0;32m----> 6\u001b[0;31m \u001b[0mlist_data\u001b[0m \u001b[0;34m=\u001b[0m \u001b[0mnp\u001b[0m\u001b[0;34m.\u001b[0m\u001b[0marray\u001b[0m\u001b[0;34m(\u001b[0m\u001b[0mcsv_file\u001b[0m\u001b[0;34m[\u001b[0m\u001b[0;36m1\u001b[0m\u001b[0;34m:\u001b[0m\u001b[0;34m]\u001b[0m\u001b[0;34m)\u001b[0m\u001b[0;34m\u001b[0m\u001b[0;34m\u001b[0m\u001b[0m\n\u001b[0m\u001b[1;32m      7\u001b[0m \u001b[0mlist_data\u001b[0m\u001b[0;34m\u001b[0m\u001b[0;34m\u001b[0m\u001b[0m\n",
            "\u001b[0;31mValueError\u001b[0m: setting an array element with a sequence. The requested array has an inhomogeneous shape after 1 dimensions. The detected shape was (18289442,) + inhomogeneous part."
          ]
        }
      ],
      "source": [
        "# using csv module to open the file\n",
        "import csv\n",
        "with open(\"sample_data/mnist_test.csv\", \"r\") as file :\n",
        "  csv_file = list(csv.reader(file.read(), delimiter=','))\n",
        "\n",
        "list(csv_file)"
      ]
    },
    {
      "cell_type": "code",
      "execution_count": null,
      "metadata": {
        "colab": {
          "base_uri": "https://localhost:8080/",
          "height": 423
        },
        "id": "2SKMqpCq1KuW",
        "outputId": "142525a8-ca8c-47c7-f4e0-4f11dcde53f2"
      },
      "outputs": [
        {
          "data": {
            "application/vnd.google.colaboratory.intrinsic+json": {
              "summary": "{\n  \"name\": \"df\",\n  \"rows\": 17000,\n  \"fields\": [\n    {\n      \"column\": \"longitude\",\n      \"properties\": {\n        \"dtype\": \"number\",\n        \"std\": 2.005166408426173,\n        \"min\": -124.35,\n        \"max\": -114.31,\n        \"num_unique_values\": 827,\n        \"samples\": [\n          -117.56,\n          -123.32,\n          -118.26\n        ],\n        \"semantic_type\": \"\",\n        \"description\": \"\"\n      }\n    },\n    {\n      \"column\": \"latitude\",\n      \"properties\": {\n        \"dtype\": \"number\",\n        \"std\": 2.1373397946570734,\n        \"min\": 32.54,\n        \"max\": 41.95,\n        \"num_unique_values\": 840,\n        \"samples\": [\n          38.44,\n          40.79,\n          32.69\n        ],\n        \"semantic_type\": \"\",\n        \"description\": \"\"\n      }\n    },\n    {\n      \"column\": \"housing_median_age\",\n      \"properties\": {\n        \"dtype\": \"number\",\n        \"std\": 12.586936981660335,\n        \"min\": 1.0,\n        \"max\": 52.0,\n        \"num_unique_values\": 52,\n        \"samples\": [\n          23.0,\n          52.0,\n          47.0\n        ],\n        \"semantic_type\": \"\",\n        \"description\": \"\"\n      }\n    },\n    {\n      \"column\": \"total_rooms\",\n      \"properties\": {\n        \"dtype\": \"number\",\n        \"std\": 2179.947071452768,\n        \"min\": 2.0,\n        \"max\": 37937.0,\n        \"num_unique_values\": 5533,\n        \"samples\": [\n          3564.0,\n          6955.0,\n          5451.0\n        ],\n        \"semantic_type\": \"\",\n        \"description\": \"\"\n      }\n    },\n    {\n      \"column\": \"total_bedrooms\",\n      \"properties\": {\n        \"dtype\": \"number\",\n        \"std\": 421.49945157986514,\n        \"min\": 1.0,\n        \"max\": 6445.0,\n        \"num_unique_values\": 1848,\n        \"samples\": [\n          729.0,\n          719.0,\n          2075.0\n        ],\n        \"semantic_type\": \"\",\n        \"description\": \"\"\n      }\n    },\n    {\n      \"column\": \"population\",\n      \"properties\": {\n        \"dtype\": \"number\",\n        \"std\": 1147.852959159525,\n        \"min\": 3.0,\n        \"max\": 35682.0,\n        \"num_unique_values\": 3683,\n        \"samples\": [\n          249.0,\n          1735.0,\n          235.0\n        ],\n        \"semantic_type\": \"\",\n        \"description\": \"\"\n      }\n    },\n    {\n      \"column\": \"households\",\n      \"properties\": {\n        \"dtype\": \"number\",\n        \"std\": 384.52084085590013,\n        \"min\": 1.0,\n        \"max\": 6082.0,\n        \"num_unique_values\": 1740,\n        \"samples\": [\n          390.0,\n          1089.0,\n          1351.0\n        ],\n        \"semantic_type\": \"\",\n        \"description\": \"\"\n      }\n    },\n    {\n      \"column\": \"median_income\",\n      \"properties\": {\n        \"dtype\": \"number\",\n        \"std\": 1.908156518379093,\n        \"min\": 0.4999,\n        \"max\": 15.0001,\n        \"num_unique_values\": 11175,\n        \"samples\": [\n          7.2655,\n          5.6293,\n          4.2262\n        ],\n        \"semantic_type\": \"\",\n        \"description\": \"\"\n      }\n    },\n    {\n      \"column\": \"median_house_value\",\n      \"properties\": {\n        \"dtype\": \"number\",\n        \"std\": 115983.76438720913,\n        \"min\": 14999.0,\n        \"max\": 500001.0,\n        \"num_unique_values\": 3694,\n        \"samples\": [\n          162300.0,\n          346800.0,\n          116700.0\n        ],\n        \"semantic_type\": \"\",\n        \"description\": \"\"\n      }\n    }\n  ]\n}",
              "type": "dataframe",
              "variable_name": "df"
            },
            "text/html": [
              "\n",
              "  <div id=\"df-70a79362-b16b-4bd7-aca3-7ff132b8b955\" class=\"colab-df-container\">\n",
              "    <div>\n",
              "<style scoped>\n",
              "    .dataframe tbody tr th:only-of-type {\n",
              "        vertical-align: middle;\n",
              "    }\n",
              "\n",
              "    .dataframe tbody tr th {\n",
              "        vertical-align: top;\n",
              "    }\n",
              "\n",
              "    .dataframe thead th {\n",
              "        text-align: right;\n",
              "    }\n",
              "</style>\n",
              "<table border=\"1\" class=\"dataframe\">\n",
              "  <thead>\n",
              "    <tr style=\"text-align: right;\">\n",
              "      <th></th>\n",
              "      <th>longitude</th>\n",
              "      <th>latitude</th>\n",
              "      <th>housing_median_age</th>\n",
              "      <th>total_rooms</th>\n",
              "      <th>total_bedrooms</th>\n",
              "      <th>population</th>\n",
              "      <th>households</th>\n",
              "      <th>median_income</th>\n",
              "      <th>median_house_value</th>\n",
              "    </tr>\n",
              "  </thead>\n",
              "  <tbody>\n",
              "    <tr>\n",
              "      <th>0</th>\n",
              "      <td>-114.31</td>\n",
              "      <td>34.19</td>\n",
              "      <td>15.0</td>\n",
              "      <td>5612.0</td>\n",
              "      <td>1283.0</td>\n",
              "      <td>1015.0</td>\n",
              "      <td>472.0</td>\n",
              "      <td>1.4936</td>\n",
              "      <td>66900.0</td>\n",
              "    </tr>\n",
              "    <tr>\n",
              "      <th>1</th>\n",
              "      <td>-114.47</td>\n",
              "      <td>34.40</td>\n",
              "      <td>19.0</td>\n",
              "      <td>7650.0</td>\n",
              "      <td>1901.0</td>\n",
              "      <td>1129.0</td>\n",
              "      <td>463.0</td>\n",
              "      <td>1.8200</td>\n",
              "      <td>80100.0</td>\n",
              "    </tr>\n",
              "    <tr>\n",
              "      <th>2</th>\n",
              "      <td>-114.56</td>\n",
              "      <td>33.69</td>\n",
              "      <td>17.0</td>\n",
              "      <td>720.0</td>\n",
              "      <td>174.0</td>\n",
              "      <td>333.0</td>\n",
              "      <td>117.0</td>\n",
              "      <td>1.6509</td>\n",
              "      <td>85700.0</td>\n",
              "    </tr>\n",
              "    <tr>\n",
              "      <th>3</th>\n",
              "      <td>-114.57</td>\n",
              "      <td>33.64</td>\n",
              "      <td>14.0</td>\n",
              "      <td>1501.0</td>\n",
              "      <td>337.0</td>\n",
              "      <td>515.0</td>\n",
              "      <td>226.0</td>\n",
              "      <td>3.1917</td>\n",
              "      <td>73400.0</td>\n",
              "    </tr>\n",
              "    <tr>\n",
              "      <th>4</th>\n",
              "      <td>-114.57</td>\n",
              "      <td>33.57</td>\n",
              "      <td>20.0</td>\n",
              "      <td>1454.0</td>\n",
              "      <td>326.0</td>\n",
              "      <td>624.0</td>\n",
              "      <td>262.0</td>\n",
              "      <td>1.9250</td>\n",
              "      <td>65500.0</td>\n",
              "    </tr>\n",
              "    <tr>\n",
              "      <th>...</th>\n",
              "      <td>...</td>\n",
              "      <td>...</td>\n",
              "      <td>...</td>\n",
              "      <td>...</td>\n",
              "      <td>...</td>\n",
              "      <td>...</td>\n",
              "      <td>...</td>\n",
              "      <td>...</td>\n",
              "      <td>...</td>\n",
              "    </tr>\n",
              "    <tr>\n",
              "      <th>16995</th>\n",
              "      <td>-124.26</td>\n",
              "      <td>40.58</td>\n",
              "      <td>52.0</td>\n",
              "      <td>2217.0</td>\n",
              "      <td>394.0</td>\n",
              "      <td>907.0</td>\n",
              "      <td>369.0</td>\n",
              "      <td>2.3571</td>\n",
              "      <td>111400.0</td>\n",
              "    </tr>\n",
              "    <tr>\n",
              "      <th>16996</th>\n",
              "      <td>-124.27</td>\n",
              "      <td>40.69</td>\n",
              "      <td>36.0</td>\n",
              "      <td>2349.0</td>\n",
              "      <td>528.0</td>\n",
              "      <td>1194.0</td>\n",
              "      <td>465.0</td>\n",
              "      <td>2.5179</td>\n",
              "      <td>79000.0</td>\n",
              "    </tr>\n",
              "    <tr>\n",
              "      <th>16997</th>\n",
              "      <td>-124.30</td>\n",
              "      <td>41.84</td>\n",
              "      <td>17.0</td>\n",
              "      <td>2677.0</td>\n",
              "      <td>531.0</td>\n",
              "      <td>1244.0</td>\n",
              "      <td>456.0</td>\n",
              "      <td>3.0313</td>\n",
              "      <td>103600.0</td>\n",
              "    </tr>\n",
              "    <tr>\n",
              "      <th>16998</th>\n",
              "      <td>-124.30</td>\n",
              "      <td>41.80</td>\n",
              "      <td>19.0</td>\n",
              "      <td>2672.0</td>\n",
              "      <td>552.0</td>\n",
              "      <td>1298.0</td>\n",
              "      <td>478.0</td>\n",
              "      <td>1.9797</td>\n",
              "      <td>85800.0</td>\n",
              "    </tr>\n",
              "    <tr>\n",
              "      <th>16999</th>\n",
              "      <td>-124.35</td>\n",
              "      <td>40.54</td>\n",
              "      <td>52.0</td>\n",
              "      <td>1820.0</td>\n",
              "      <td>300.0</td>\n",
              "      <td>806.0</td>\n",
              "      <td>270.0</td>\n",
              "      <td>3.0147</td>\n",
              "      <td>94600.0</td>\n",
              "    </tr>\n",
              "  </tbody>\n",
              "</table>\n",
              "<p>17000 rows × 9 columns</p>\n",
              "</div>\n",
              "    <div class=\"colab-df-buttons\">\n",
              "\n",
              "  <div class=\"colab-df-container\">\n",
              "    <button class=\"colab-df-convert\" onclick=\"convertToInteractive('df-70a79362-b16b-4bd7-aca3-7ff132b8b955')\"\n",
              "            title=\"Convert this dataframe to an interactive table.\"\n",
              "            style=\"display:none;\">\n",
              "\n",
              "  <svg xmlns=\"http://www.w3.org/2000/svg\" height=\"24px\" viewBox=\"0 -960 960 960\">\n",
              "    <path d=\"M120-120v-720h720v720H120Zm60-500h600v-160H180v160Zm220 220h160v-160H400v160Zm0 220h160v-160H400v160ZM180-400h160v-160H180v160Zm440 0h160v-160H620v160ZM180-180h160v-160H180v160Zm440 0h160v-160H620v160Z\"/>\n",
              "  </svg>\n",
              "    </button>\n",
              "\n",
              "  <style>\n",
              "    .colab-df-container {\n",
              "      display:flex;\n",
              "      gap: 12px;\n",
              "    }\n",
              "\n",
              "    .colab-df-convert {\n",
              "      background-color: #E8F0FE;\n",
              "      border: none;\n",
              "      border-radius: 50%;\n",
              "      cursor: pointer;\n",
              "      display: none;\n",
              "      fill: #1967D2;\n",
              "      height: 32px;\n",
              "      padding: 0 0 0 0;\n",
              "      width: 32px;\n",
              "    }\n",
              "\n",
              "    .colab-df-convert:hover {\n",
              "      background-color: #E2EBFA;\n",
              "      box-shadow: 0px 1px 2px rgba(60, 64, 67, 0.3), 0px 1px 3px 1px rgba(60, 64, 67, 0.15);\n",
              "      fill: #174EA6;\n",
              "    }\n",
              "\n",
              "    .colab-df-buttons div {\n",
              "      margin-bottom: 4px;\n",
              "    }\n",
              "\n",
              "    [theme=dark] .colab-df-convert {\n",
              "      background-color: #3B4455;\n",
              "      fill: #D2E3FC;\n",
              "    }\n",
              "\n",
              "    [theme=dark] .colab-df-convert:hover {\n",
              "      background-color: #434B5C;\n",
              "      box-shadow: 0px 1px 3px 1px rgba(0, 0, 0, 0.15);\n",
              "      filter: drop-shadow(0px 1px 2px rgba(0, 0, 0, 0.3));\n",
              "      fill: #FFFFFF;\n",
              "    }\n",
              "  </style>\n",
              "\n",
              "    <script>\n",
              "      const buttonEl =\n",
              "        document.querySelector('#df-70a79362-b16b-4bd7-aca3-7ff132b8b955 button.colab-df-convert');\n",
              "      buttonEl.style.display =\n",
              "        google.colab.kernel.accessAllowed ? 'block' : 'none';\n",
              "\n",
              "      async function convertToInteractive(key) {\n",
              "        const element = document.querySelector('#df-70a79362-b16b-4bd7-aca3-7ff132b8b955');\n",
              "        const dataTable =\n",
              "          await google.colab.kernel.invokeFunction('convertToInteractive',\n",
              "                                                    [key], {});\n",
              "        if (!dataTable) return;\n",
              "\n",
              "        const docLinkHtml = 'Like what you see? Visit the ' +\n",
              "          '<a target=\"_blank\" href=https://colab.research.google.com/notebooks/data_table.ipynb>data table notebook</a>'\n",
              "          + ' to learn more about interactive tables.';\n",
              "        element.innerHTML = '';\n",
              "        dataTable['output_type'] = 'display_data';\n",
              "        await google.colab.output.renderOutput(dataTable, element);\n",
              "        const docLink = document.createElement('div');\n",
              "        docLink.innerHTML = docLinkHtml;\n",
              "        element.appendChild(docLink);\n",
              "      }\n",
              "    </script>\n",
              "  </div>\n",
              "\n",
              "\n",
              "    <div id=\"df-f142ae27-0939-4510-863d-4984161f195b\">\n",
              "      <button class=\"colab-df-quickchart\" onclick=\"quickchart('df-f142ae27-0939-4510-863d-4984161f195b')\"\n",
              "                title=\"Suggest charts\"\n",
              "                style=\"display:none;\">\n",
              "\n",
              "<svg xmlns=\"http://www.w3.org/2000/svg\" height=\"24px\"viewBox=\"0 0 24 24\"\n",
              "     width=\"24px\">\n",
              "    <g>\n",
              "        <path d=\"M19 3H5c-1.1 0-2 .9-2 2v14c0 1.1.9 2 2 2h14c1.1 0 2-.9 2-2V5c0-1.1-.9-2-2-2zM9 17H7v-7h2v7zm4 0h-2V7h2v10zm4 0h-2v-4h2v4z\"/>\n",
              "    </g>\n",
              "</svg>\n",
              "      </button>\n",
              "\n",
              "<style>\n",
              "  .colab-df-quickchart {\n",
              "      --bg-color: #E8F0FE;\n",
              "      --fill-color: #1967D2;\n",
              "      --hover-bg-color: #E2EBFA;\n",
              "      --hover-fill-color: #174EA6;\n",
              "      --disabled-fill-color: #AAA;\n",
              "      --disabled-bg-color: #DDD;\n",
              "  }\n",
              "\n",
              "  [theme=dark] .colab-df-quickchart {\n",
              "      --bg-color: #3B4455;\n",
              "      --fill-color: #D2E3FC;\n",
              "      --hover-bg-color: #434B5C;\n",
              "      --hover-fill-color: #FFFFFF;\n",
              "      --disabled-bg-color: #3B4455;\n",
              "      --disabled-fill-color: #666;\n",
              "  }\n",
              "\n",
              "  .colab-df-quickchart {\n",
              "    background-color: var(--bg-color);\n",
              "    border: none;\n",
              "    border-radius: 50%;\n",
              "    cursor: pointer;\n",
              "    display: none;\n",
              "    fill: var(--fill-color);\n",
              "    height: 32px;\n",
              "    padding: 0;\n",
              "    width: 32px;\n",
              "  }\n",
              "\n",
              "  .colab-df-quickchart:hover {\n",
              "    background-color: var(--hover-bg-color);\n",
              "    box-shadow: 0 1px 2px rgba(60, 64, 67, 0.3), 0 1px 3px 1px rgba(60, 64, 67, 0.15);\n",
              "    fill: var(--button-hover-fill-color);\n",
              "  }\n",
              "\n",
              "  .colab-df-quickchart-complete:disabled,\n",
              "  .colab-df-quickchart-complete:disabled:hover {\n",
              "    background-color: var(--disabled-bg-color);\n",
              "    fill: var(--disabled-fill-color);\n",
              "    box-shadow: none;\n",
              "  }\n",
              "\n",
              "  .colab-df-spinner {\n",
              "    border: 2px solid var(--fill-color);\n",
              "    border-color: transparent;\n",
              "    border-bottom-color: var(--fill-color);\n",
              "    animation:\n",
              "      spin 1s steps(1) infinite;\n",
              "  }\n",
              "\n",
              "  @keyframes spin {\n",
              "    0% {\n",
              "      border-color: transparent;\n",
              "      border-bottom-color: var(--fill-color);\n",
              "      border-left-color: var(--fill-color);\n",
              "    }\n",
              "    20% {\n",
              "      border-color: transparent;\n",
              "      border-left-color: var(--fill-color);\n",
              "      border-top-color: var(--fill-color);\n",
              "    }\n",
              "    30% {\n",
              "      border-color: transparent;\n",
              "      border-left-color: var(--fill-color);\n",
              "      border-top-color: var(--fill-color);\n",
              "      border-right-color: var(--fill-color);\n",
              "    }\n",
              "    40% {\n",
              "      border-color: transparent;\n",
              "      border-right-color: var(--fill-color);\n",
              "      border-top-color: var(--fill-color);\n",
              "    }\n",
              "    60% {\n",
              "      border-color: transparent;\n",
              "      border-right-color: var(--fill-color);\n",
              "    }\n",
              "    80% {\n",
              "      border-color: transparent;\n",
              "      border-right-color: var(--fill-color);\n",
              "      border-bottom-color: var(--fill-color);\n",
              "    }\n",
              "    90% {\n",
              "      border-color: transparent;\n",
              "      border-bottom-color: var(--fill-color);\n",
              "    }\n",
              "  }\n",
              "</style>\n",
              "\n",
              "      <script>\n",
              "        async function quickchart(key) {\n",
              "          const quickchartButtonEl =\n",
              "            document.querySelector('#' + key + ' button');\n",
              "          quickchartButtonEl.disabled = true;  // To prevent multiple clicks.\n",
              "          quickchartButtonEl.classList.add('colab-df-spinner');\n",
              "          try {\n",
              "            const charts = await google.colab.kernel.invokeFunction(\n",
              "                'suggestCharts', [key], {});\n",
              "          } catch (error) {\n",
              "            console.error('Error during call to suggestCharts:', error);\n",
              "          }\n",
              "          quickchartButtonEl.classList.remove('colab-df-spinner');\n",
              "          quickchartButtonEl.classList.add('colab-df-quickchart-complete');\n",
              "        }\n",
              "        (() => {\n",
              "          let quickchartButtonEl =\n",
              "            document.querySelector('#df-f142ae27-0939-4510-863d-4984161f195b button');\n",
              "          quickchartButtonEl.style.display =\n",
              "            google.colab.kernel.accessAllowed ? 'block' : 'none';\n",
              "        })();\n",
              "      </script>\n",
              "    </div>\n",
              "\n",
              "  <div id=\"id_97c7e38e-33ce-42ad-a9cc-b988ff01fab5\">\n",
              "    <style>\n",
              "      .colab-df-generate {\n",
              "        background-color: #E8F0FE;\n",
              "        border: none;\n",
              "        border-radius: 50%;\n",
              "        cursor: pointer;\n",
              "        display: none;\n",
              "        fill: #1967D2;\n",
              "        height: 32px;\n",
              "        padding: 0 0 0 0;\n",
              "        width: 32px;\n",
              "      }\n",
              "\n",
              "      .colab-df-generate:hover {\n",
              "        background-color: #E2EBFA;\n",
              "        box-shadow: 0px 1px 2px rgba(60, 64, 67, 0.3), 0px 1px 3px 1px rgba(60, 64, 67, 0.15);\n",
              "        fill: #174EA6;\n",
              "      }\n",
              "\n",
              "      [theme=dark] .colab-df-generate {\n",
              "        background-color: #3B4455;\n",
              "        fill: #D2E3FC;\n",
              "      }\n",
              "\n",
              "      [theme=dark] .colab-df-generate:hover {\n",
              "        background-color: #434B5C;\n",
              "        box-shadow: 0px 1px 3px 1px rgba(0, 0, 0, 0.15);\n",
              "        filter: drop-shadow(0px 1px 2px rgba(0, 0, 0, 0.3));\n",
              "        fill: #FFFFFF;\n",
              "      }\n",
              "    </style>\n",
              "    <button class=\"colab-df-generate\" onclick=\"generateWithVariable('df')\"\n",
              "            title=\"Generate code using this dataframe.\"\n",
              "            style=\"display:none;\">\n",
              "\n",
              "  <svg xmlns=\"http://www.w3.org/2000/svg\" height=\"24px\"viewBox=\"0 0 24 24\"\n",
              "       width=\"24px\">\n",
              "    <path d=\"M7,19H8.4L18.45,9,17,7.55,7,17.6ZM5,21V16.75L18.45,3.32a2,2,0,0,1,2.83,0l1.4,1.43a1.91,1.91,0,0,1,.58,1.4,1.91,1.91,0,0,1-.58,1.4L9.25,21ZM18.45,9,17,7.55Zm-12,3A5.31,5.31,0,0,0,4.9,8.1,5.31,5.31,0,0,0,1,6.5,5.31,5.31,0,0,0,4.9,4.9,5.31,5.31,0,0,0,6.5,1,5.31,5.31,0,0,0,8.1,4.9,5.31,5.31,0,0,0,12,6.5,5.46,5.46,0,0,0,6.5,12Z\"/>\n",
              "  </svg>\n",
              "    </button>\n",
              "    <script>\n",
              "      (() => {\n",
              "      const buttonEl =\n",
              "        document.querySelector('#id_97c7e38e-33ce-42ad-a9cc-b988ff01fab5 button.colab-df-generate');\n",
              "      buttonEl.style.display =\n",
              "        google.colab.kernel.accessAllowed ? 'block' : 'none';\n",
              "\n",
              "      buttonEl.onclick = () => {\n",
              "        google.colab.notebook.generateWithVariable('df');\n",
              "      }\n",
              "      })();\n",
              "    </script>\n",
              "  </div>\n",
              "\n",
              "    </div>\n",
              "  </div>\n"
            ],
            "text/plain": [
              "       longitude  latitude  housing_median_age  total_rooms  total_bedrooms  \\\n",
              "0        -114.31     34.19                15.0       5612.0          1283.0   \n",
              "1        -114.47     34.40                19.0       7650.0          1901.0   \n",
              "2        -114.56     33.69                17.0        720.0           174.0   \n",
              "3        -114.57     33.64                14.0       1501.0           337.0   \n",
              "4        -114.57     33.57                20.0       1454.0           326.0   \n",
              "...          ...       ...                 ...          ...             ...   \n",
              "16995    -124.26     40.58                52.0       2217.0           394.0   \n",
              "16996    -124.27     40.69                36.0       2349.0           528.0   \n",
              "16997    -124.30     41.84                17.0       2677.0           531.0   \n",
              "16998    -124.30     41.80                19.0       2672.0           552.0   \n",
              "16999    -124.35     40.54                52.0       1820.0           300.0   \n",
              "\n",
              "       population  households  median_income  median_house_value  \n",
              "0          1015.0       472.0         1.4936             66900.0  \n",
              "1          1129.0       463.0         1.8200             80100.0  \n",
              "2           333.0       117.0         1.6509             85700.0  \n",
              "3           515.0       226.0         3.1917             73400.0  \n",
              "4           624.0       262.0         1.9250             65500.0  \n",
              "...           ...         ...            ...                 ...  \n",
              "16995       907.0       369.0         2.3571            111400.0  \n",
              "16996      1194.0       465.0         2.5179             79000.0  \n",
              "16997      1244.0       456.0         3.0313            103600.0  \n",
              "16998      1298.0       478.0         1.9797             85800.0  \n",
              "16999       806.0       270.0         3.0147             94600.0  \n",
              "\n",
              "[17000 rows x 9 columns]"
            ]
          },
          "execution_count": 55,
          "metadata": {},
          "output_type": "execute_result"
        }
      ],
      "source": [
        "# loading data using pandas\n",
        "df = pd.read_csv(\"sample_data/california_housing_train.csv\")\n",
        "df"
      ]
    },
    {
      "cell_type": "code",
      "execution_count": null,
      "metadata": {
        "colab": {
          "base_uri": "https://localhost:8080/",
          "height": 770
        },
        "id": "nY6BF8-t2U6r",
        "outputId": "4675a900-7033-4774-ec5c-543e93fd94a6"
      },
      "outputs": [
        {
          "data": {
            "application/vnd.google.colaboratory.intrinsic+json": {
              "summary": "{\n  \"name\": \"excel_df\",\n  \"rows\": 23,\n  \"fields\": [\n    {\n      \"column\": \"Unnamed: 0\",\n      \"properties\": {\n        \"dtype\": \"number\",\n        \"std\": null,\n        \"min\": null,\n        \"max\": null,\n        \"num_unique_values\": 0,\n        \"samples\": [],\n        \"semantic_type\": \"\",\n        \"description\": \"\"\n      }\n    },\n    {\n      \"column\": \"Unnamed: 1\",\n      \"properties\": {\n        \"dtype\": \"category\",\n        \"num_unique_values\": 9,\n        \"samples\": [],\n        \"semantic_type\": \"\",\n        \"description\": \"\"\n      }\n    },\n    {\n      \"column\": \"Unnamed: 2\",\n      \"properties\": {\n        \"dtype\": \"category\",\n        \"num_unique_values\": 8,\n        \"samples\": [],\n        \"semantic_type\": \"\",\n        \"description\": \"\"\n      }\n    }\n  ]\n}",
              "type": "dataframe",
              "variable_name": "excel_df"
            },
            "text/html": [
              "\n",
              "  <div id=\"df-4615ffd1-b214-495f-8de5-beab6b31926f\" class=\"colab-df-container\">\n",
              "    <div>\n",
              "<style scoped>\n",
              "    .dataframe tbody tr th:only-of-type {\n",
              "        vertical-align: middle;\n",
              "    }\n",
              "\n",
              "    .dataframe tbody tr th {\n",
              "        vertical-align: top;\n",
              "    }\n",
              "\n",
              "    .dataframe thead th {\n",
              "        text-align: right;\n",
              "    }\n",
              "</style>\n",
              "<table border=\"1\" class=\"dataframe\">\n",
              "  <thead>\n",
              "    <tr style=\"text-align: right;\">\n",
              "      <th></th>\n",
              "      <th>Unnamed: 0</th>\n",
              "      <th>Unnamed: 1</th>\n",
              "      <th>Unnamed: 2</th>\n",
              "    </tr>\n",
              "  </thead>\n",
              "  <tbody>\n",
              "    <tr>\n",
              "      <th>0</th>\n",
              "      <td>NaN</td>\n",
              "      <td>NaN</td>\n",
              "      <td>NaN</td>\n",
              "    </tr>\n",
              "    <tr>\n",
              "      <th>1</th>\n",
              "      <td>NaN</td>\n",
              "      <td>NaN</td>\n",
              "      <td>NaN</td>\n",
              "    </tr>\n",
              "    <tr>\n",
              "      <th>2</th>\n",
              "      <td>NaN</td>\n",
              "      <td>NaN</td>\n",
              "      <td>NaN</td>\n",
              "    </tr>\n",
              "    <tr>\n",
              "      <th>3</th>\n",
              "      <td>NaN</td>\n",
              "      <td>IMF Investment and Capital Stock Dataset, 1960...</td>\n",
              "      <td>NaN</td>\n",
              "    </tr>\n",
              "    <tr>\n",
              "      <th>4</th>\n",
              "      <td>NaN</td>\n",
              "      <td>(This version: May 2021)</td>\n",
              "      <td>NaN</td>\n",
              "    </tr>\n",
              "    <tr>\n",
              "      <th>5</th>\n",
              "      <td>NaN</td>\n",
              "      <td>NaN</td>\n",
              "      <td>Developed by Expenditure Policy (EP) Division,...</td>\n",
              "    </tr>\n",
              "    <tr>\n",
              "      <th>6</th>\n",
              "      <td>NaN</td>\n",
              "      <td>NaN</td>\n",
              "      <td>NaN</td>\n",
              "    </tr>\n",
              "    <tr>\n",
              "      <th>7</th>\n",
              "      <td>NaN</td>\n",
              "      <td>NaN</td>\n",
              "      <td>NaN</td>\n",
              "    </tr>\n",
              "    <tr>\n",
              "      <th>8</th>\n",
              "      <td>NaN</td>\n",
              "      <td>NaN</td>\n",
              "      <td>NaN</td>\n",
              "    </tr>\n",
              "    <tr>\n",
              "      <th>9</th>\n",
              "      <td>NaN</td>\n",
              "      <td>NaN</td>\n",
              "      <td>NaN</td>\n",
              "    </tr>\n",
              "    <tr>\n",
              "      <th>10</th>\n",
              "      <td>NaN</td>\n",
              "      <td>Background:</td>\n",
              "      <td>This file provides comprehensive data on publi...</td>\n",
              "    </tr>\n",
              "    <tr>\n",
              "      <th>11</th>\n",
              "      <td>NaN</td>\n",
              "      <td>NaN</td>\n",
              "      <td>NaN</td>\n",
              "    </tr>\n",
              "    <tr>\n",
              "      <th>12</th>\n",
              "      <td>NaN</td>\n",
              "      <td>Frequency of updates:</td>\n",
              "      <td>This database will be updated periodically as ...</td>\n",
              "    </tr>\n",
              "    <tr>\n",
              "      <th>13</th>\n",
              "      <td>NaN</td>\n",
              "      <td>NaN</td>\n",
              "      <td>NaN</td>\n",
              "    </tr>\n",
              "    <tr>\n",
              "      <th>14</th>\n",
              "      <td>NaN</td>\n",
              "      <td>Background material:</td>\n",
              "      <td>The accompanying 2021 Update of the Manual \"Es...</td>\n",
              "    </tr>\n",
              "    <tr>\n",
              "      <th>15</th>\n",
              "      <td>NaN</td>\n",
              "      <td>NaN</td>\n",
              "      <td>NaN</td>\n",
              "    </tr>\n",
              "    <tr>\n",
              "      <th>16</th>\n",
              "      <td>NaN</td>\n",
              "      <td>Dataset reference:</td>\n",
              "      <td>Please refer to it as \"IMF Investment and Capi...</td>\n",
              "    </tr>\n",
              "    <tr>\n",
              "      <th>17</th>\n",
              "      <td>NaN</td>\n",
              "      <td>NaN</td>\n",
              "      <td>NaN</td>\n",
              "    </tr>\n",
              "    <tr>\n",
              "      <th>18</th>\n",
              "      <td>NaN</td>\n",
              "      <td>Information sources:</td>\n",
              "      <td>Information on public and private investment a...</td>\n",
              "    </tr>\n",
              "    <tr>\n",
              "      <th>19</th>\n",
              "      <td>NaN</td>\n",
              "      <td>NaN</td>\n",
              "      <td>NaN</td>\n",
              "    </tr>\n",
              "    <tr>\n",
              "      <th>20</th>\n",
              "      <td>NaN</td>\n",
              "      <td>Note:</td>\n",
              "      <td>Note that all data series (public investment a...</td>\n",
              "    </tr>\n",
              "    <tr>\n",
              "      <th>21</th>\n",
              "      <td>NaN</td>\n",
              "      <td>NaN</td>\n",
              "      <td>NaN</td>\n",
              "    </tr>\n",
              "    <tr>\n",
              "      <th>22</th>\n",
              "      <td>NaN</td>\n",
              "      <td>Comments/suggestions:</td>\n",
              "      <td>For any queries please contact Riki Matsumoto ...</td>\n",
              "    </tr>\n",
              "  </tbody>\n",
              "</table>\n",
              "</div>\n",
              "    <div class=\"colab-df-buttons\">\n",
              "\n",
              "  <div class=\"colab-df-container\">\n",
              "    <button class=\"colab-df-convert\" onclick=\"convertToInteractive('df-4615ffd1-b214-495f-8de5-beab6b31926f')\"\n",
              "            title=\"Convert this dataframe to an interactive table.\"\n",
              "            style=\"display:none;\">\n",
              "\n",
              "  <svg xmlns=\"http://www.w3.org/2000/svg\" height=\"24px\" viewBox=\"0 -960 960 960\">\n",
              "    <path d=\"M120-120v-720h720v720H120Zm60-500h600v-160H180v160Zm220 220h160v-160H400v160Zm0 220h160v-160H400v160ZM180-400h160v-160H180v160Zm440 0h160v-160H620v160ZM180-180h160v-160H180v160Zm440 0h160v-160H620v160Z\"/>\n",
              "  </svg>\n",
              "    </button>\n",
              "\n",
              "  <style>\n",
              "    .colab-df-container {\n",
              "      display:flex;\n",
              "      gap: 12px;\n",
              "    }\n",
              "\n",
              "    .colab-df-convert {\n",
              "      background-color: #E8F0FE;\n",
              "      border: none;\n",
              "      border-radius: 50%;\n",
              "      cursor: pointer;\n",
              "      display: none;\n",
              "      fill: #1967D2;\n",
              "      height: 32px;\n",
              "      padding: 0 0 0 0;\n",
              "      width: 32px;\n",
              "    }\n",
              "\n",
              "    .colab-df-convert:hover {\n",
              "      background-color: #E2EBFA;\n",
              "      box-shadow: 0px 1px 2px rgba(60, 64, 67, 0.3), 0px 1px 3px 1px rgba(60, 64, 67, 0.15);\n",
              "      fill: #174EA6;\n",
              "    }\n",
              "\n",
              "    .colab-df-buttons div {\n",
              "      margin-bottom: 4px;\n",
              "    }\n",
              "\n",
              "    [theme=dark] .colab-df-convert {\n",
              "      background-color: #3B4455;\n",
              "      fill: #D2E3FC;\n",
              "    }\n",
              "\n",
              "    [theme=dark] .colab-df-convert:hover {\n",
              "      background-color: #434B5C;\n",
              "      box-shadow: 0px 1px 3px 1px rgba(0, 0, 0, 0.15);\n",
              "      filter: drop-shadow(0px 1px 2px rgba(0, 0, 0, 0.3));\n",
              "      fill: #FFFFFF;\n",
              "    }\n",
              "  </style>\n",
              "\n",
              "    <script>\n",
              "      const buttonEl =\n",
              "        document.querySelector('#df-4615ffd1-b214-495f-8de5-beab6b31926f button.colab-df-convert');\n",
              "      buttonEl.style.display =\n",
              "        google.colab.kernel.accessAllowed ? 'block' : 'none';\n",
              "\n",
              "      async function convertToInteractive(key) {\n",
              "        const element = document.querySelector('#df-4615ffd1-b214-495f-8de5-beab6b31926f');\n",
              "        const dataTable =\n",
              "          await google.colab.kernel.invokeFunction('convertToInteractive',\n",
              "                                                    [key], {});\n",
              "        if (!dataTable) return;\n",
              "\n",
              "        const docLinkHtml = 'Like what you see? Visit the ' +\n",
              "          '<a target=\"_blank\" href=https://colab.research.google.com/notebooks/data_table.ipynb>data table notebook</a>'\n",
              "          + ' to learn more about interactive tables.';\n",
              "        element.innerHTML = '';\n",
              "        dataTable['output_type'] = 'display_data';\n",
              "        await google.colab.output.renderOutput(dataTable, element);\n",
              "        const docLink = document.createElement('div');\n",
              "        docLink.innerHTML = docLinkHtml;\n",
              "        element.appendChild(docLink);\n",
              "      }\n",
              "    </script>\n",
              "  </div>\n",
              "\n",
              "\n",
              "    <div id=\"df-d03803e1-ce10-4fad-9c70-699f8ed31a03\">\n",
              "      <button class=\"colab-df-quickchart\" onclick=\"quickchart('df-d03803e1-ce10-4fad-9c70-699f8ed31a03')\"\n",
              "                title=\"Suggest charts\"\n",
              "                style=\"display:none;\">\n",
              "\n",
              "<svg xmlns=\"http://www.w3.org/2000/svg\" height=\"24px\"viewBox=\"0 0 24 24\"\n",
              "     width=\"24px\">\n",
              "    <g>\n",
              "        <path d=\"M19 3H5c-1.1 0-2 .9-2 2v14c0 1.1.9 2 2 2h14c1.1 0 2-.9 2-2V5c0-1.1-.9-2-2-2zM9 17H7v-7h2v7zm4 0h-2V7h2v10zm4 0h-2v-4h2v4z\"/>\n",
              "    </g>\n",
              "</svg>\n",
              "      </button>\n",
              "\n",
              "<style>\n",
              "  .colab-df-quickchart {\n",
              "      --bg-color: #E8F0FE;\n",
              "      --fill-color: #1967D2;\n",
              "      --hover-bg-color: #E2EBFA;\n",
              "      --hover-fill-color: #174EA6;\n",
              "      --disabled-fill-color: #AAA;\n",
              "      --disabled-bg-color: #DDD;\n",
              "  }\n",
              "\n",
              "  [theme=dark] .colab-df-quickchart {\n",
              "      --bg-color: #3B4455;\n",
              "      --fill-color: #D2E3FC;\n",
              "      --hover-bg-color: #434B5C;\n",
              "      --hover-fill-color: #FFFFFF;\n",
              "      --disabled-bg-color: #3B4455;\n",
              "      --disabled-fill-color: #666;\n",
              "  }\n",
              "\n",
              "  .colab-df-quickchart {\n",
              "    background-color: var(--bg-color);\n",
              "    border: none;\n",
              "    border-radius: 50%;\n",
              "    cursor: pointer;\n",
              "    display: none;\n",
              "    fill: var(--fill-color);\n",
              "    height: 32px;\n",
              "    padding: 0;\n",
              "    width: 32px;\n",
              "  }\n",
              "\n",
              "  .colab-df-quickchart:hover {\n",
              "    background-color: var(--hover-bg-color);\n",
              "    box-shadow: 0 1px 2px rgba(60, 64, 67, 0.3), 0 1px 3px 1px rgba(60, 64, 67, 0.15);\n",
              "    fill: var(--button-hover-fill-color);\n",
              "  }\n",
              "\n",
              "  .colab-df-quickchart-complete:disabled,\n",
              "  .colab-df-quickchart-complete:disabled:hover {\n",
              "    background-color: var(--disabled-bg-color);\n",
              "    fill: var(--disabled-fill-color);\n",
              "    box-shadow: none;\n",
              "  }\n",
              "\n",
              "  .colab-df-spinner {\n",
              "    border: 2px solid var(--fill-color);\n",
              "    border-color: transparent;\n",
              "    border-bottom-color: var(--fill-color);\n",
              "    animation:\n",
              "      spin 1s steps(1) infinite;\n",
              "  }\n",
              "\n",
              "  @keyframes spin {\n",
              "    0% {\n",
              "      border-color: transparent;\n",
              "      border-bottom-color: var(--fill-color);\n",
              "      border-left-color: var(--fill-color);\n",
              "    }\n",
              "    20% {\n",
              "      border-color: transparent;\n",
              "      border-left-color: var(--fill-color);\n",
              "      border-top-color: var(--fill-color);\n",
              "    }\n",
              "    30% {\n",
              "      border-color: transparent;\n",
              "      border-left-color: var(--fill-color);\n",
              "      border-top-color: var(--fill-color);\n",
              "      border-right-color: var(--fill-color);\n",
              "    }\n",
              "    40% {\n",
              "      border-color: transparent;\n",
              "      border-right-color: var(--fill-color);\n",
              "      border-top-color: var(--fill-color);\n",
              "    }\n",
              "    60% {\n",
              "      border-color: transparent;\n",
              "      border-right-color: var(--fill-color);\n",
              "    }\n",
              "    80% {\n",
              "      border-color: transparent;\n",
              "      border-right-color: var(--fill-color);\n",
              "      border-bottom-color: var(--fill-color);\n",
              "    }\n",
              "    90% {\n",
              "      border-color: transparent;\n",
              "      border-bottom-color: var(--fill-color);\n",
              "    }\n",
              "  }\n",
              "</style>\n",
              "\n",
              "      <script>\n",
              "        async function quickchart(key) {\n",
              "          const quickchartButtonEl =\n",
              "            document.querySelector('#' + key + ' button');\n",
              "          quickchartButtonEl.disabled = true;  // To prevent multiple clicks.\n",
              "          quickchartButtonEl.classList.add('colab-df-spinner');\n",
              "          try {\n",
              "            const charts = await google.colab.kernel.invokeFunction(\n",
              "                'suggestCharts', [key], {});\n",
              "          } catch (error) {\n",
              "            console.error('Error during call to suggestCharts:', error);\n",
              "          }\n",
              "          quickchartButtonEl.classList.remove('colab-df-spinner');\n",
              "          quickchartButtonEl.classList.add('colab-df-quickchart-complete');\n",
              "        }\n",
              "        (() => {\n",
              "          let quickchartButtonEl =\n",
              "            document.querySelector('#df-d03803e1-ce10-4fad-9c70-699f8ed31a03 button');\n",
              "          quickchartButtonEl.style.display =\n",
              "            google.colab.kernel.accessAllowed ? 'block' : 'none';\n",
              "        })();\n",
              "      </script>\n",
              "    </div>\n",
              "\n",
              "  <div id=\"id_4cd6d3e2-ae79-4eb1-afb3-d760be51f129\">\n",
              "    <style>\n",
              "      .colab-df-generate {\n",
              "        background-color: #E8F0FE;\n",
              "        border: none;\n",
              "        border-radius: 50%;\n",
              "        cursor: pointer;\n",
              "        display: none;\n",
              "        fill: #1967D2;\n",
              "        height: 32px;\n",
              "        padding: 0 0 0 0;\n",
              "        width: 32px;\n",
              "      }\n",
              "\n",
              "      .colab-df-generate:hover {\n",
              "        background-color: #E2EBFA;\n",
              "        box-shadow: 0px 1px 2px rgba(60, 64, 67, 0.3), 0px 1px 3px 1px rgba(60, 64, 67, 0.15);\n",
              "        fill: #174EA6;\n",
              "      }\n",
              "\n",
              "      [theme=dark] .colab-df-generate {\n",
              "        background-color: #3B4455;\n",
              "        fill: #D2E3FC;\n",
              "      }\n",
              "\n",
              "      [theme=dark] .colab-df-generate:hover {\n",
              "        background-color: #434B5C;\n",
              "        box-shadow: 0px 1px 3px 1px rgba(0, 0, 0, 0.15);\n",
              "        filter: drop-shadow(0px 1px 2px rgba(0, 0, 0, 0.3));\n",
              "        fill: #FFFFFF;\n",
              "      }\n",
              "    </style>\n",
              "    <button class=\"colab-df-generate\" onclick=\"generateWithVariable('excel_df')\"\n",
              "            title=\"Generate code using this dataframe.\"\n",
              "            style=\"display:none;\">\n",
              "\n",
              "  <svg xmlns=\"http://www.w3.org/2000/svg\" height=\"24px\"viewBox=\"0 0 24 24\"\n",
              "       width=\"24px\">\n",
              "    <path d=\"M7,19H8.4L18.45,9,17,7.55,7,17.6ZM5,21V16.75L18.45,3.32a2,2,0,0,1,2.83,0l1.4,1.43a1.91,1.91,0,0,1,.58,1.4,1.91,1.91,0,0,1-.58,1.4L9.25,21ZM18.45,9,17,7.55Zm-12,3A5.31,5.31,0,0,0,4.9,8.1,5.31,5.31,0,0,0,1,6.5,5.31,5.31,0,0,0,4.9,4.9,5.31,5.31,0,0,0,6.5,1,5.31,5.31,0,0,0,8.1,4.9,5.31,5.31,0,0,0,12,6.5,5.46,5.46,0,0,0,6.5,12Z\"/>\n",
              "  </svg>\n",
              "    </button>\n",
              "    <script>\n",
              "      (() => {\n",
              "      const buttonEl =\n",
              "        document.querySelector('#id_4cd6d3e2-ae79-4eb1-afb3-d760be51f129 button.colab-df-generate');\n",
              "      buttonEl.style.display =\n",
              "        google.colab.kernel.accessAllowed ? 'block' : 'none';\n",
              "\n",
              "      buttonEl.onclick = () => {\n",
              "        google.colab.notebook.generateWithVariable('excel_df');\n",
              "      }\n",
              "      })();\n",
              "    </script>\n",
              "  </div>\n",
              "\n",
              "    </div>\n",
              "  </div>\n"
            ],
            "text/plain": [
              "    Unnamed: 0                                         Unnamed: 1  \\\n",
              "0          NaN                                                NaN   \n",
              "1          NaN                                                NaN   \n",
              "2          NaN                                                NaN   \n",
              "3          NaN  IMF Investment and Capital Stock Dataset, 1960...   \n",
              "4          NaN                           (This version: May 2021)   \n",
              "5          NaN                                                NaN   \n",
              "6          NaN                                                NaN   \n",
              "7          NaN                                                NaN   \n",
              "8          NaN                                                NaN   \n",
              "9          NaN                                                NaN   \n",
              "10         NaN                                        Background:   \n",
              "11         NaN                                                NaN   \n",
              "12         NaN                              Frequency of updates:   \n",
              "13         NaN                                                NaN   \n",
              "14         NaN                               Background material:   \n",
              "15         NaN                                                NaN   \n",
              "16         NaN                                 Dataset reference:   \n",
              "17         NaN                                                NaN   \n",
              "18         NaN                               Information sources:   \n",
              "19         NaN                                                NaN   \n",
              "20         NaN                                              Note:   \n",
              "21         NaN                                                NaN   \n",
              "22         NaN                              Comments/suggestions:   \n",
              "\n",
              "                                           Unnamed: 2  \n",
              "0                                                 NaN  \n",
              "1                                                 NaN  \n",
              "2                                                 NaN  \n",
              "3                                                 NaN  \n",
              "4                                                 NaN  \n",
              "5   Developed by Expenditure Policy (EP) Division,...  \n",
              "6                                                 NaN  \n",
              "7                                                 NaN  \n",
              "8                                                 NaN  \n",
              "9                                                 NaN  \n",
              "10  This file provides comprehensive data on publi...  \n",
              "11                                                NaN  \n",
              "12  This database will be updated periodically as ...  \n",
              "13                                                NaN  \n",
              "14  The accompanying 2021 Update of the Manual \"Es...  \n",
              "15                                                NaN  \n",
              "16  Please refer to it as \"IMF Investment and Capi...  \n",
              "17                                                NaN  \n",
              "18  Information on public and private investment a...  \n",
              "19                                                NaN  \n",
              "20  Note that all data series (public investment a...  \n",
              "21                                                NaN  \n",
              "22  For any queries please contact Riki Matsumoto ...  "
            ]
          },
          "execution_count": 57,
          "metadata": {},
          "output_type": "execute_result"
        }
      ],
      "source": [
        "# loading data using pandas\n",
        "excel_df = pd.read_excel(\"IMFInvestmentandCapitalStockDataset2021.xlsx\")\n",
        "excel_df"
      ]
    },
    {
      "cell_type": "code",
      "execution_count": null,
      "metadata": {
        "colab": {
          "base_uri": "https://localhost:8080/"
        },
        "id": "kxvJcuyX26kY",
        "outputId": "584bbc3d-d0d7-4579-c9b1-98b848e51a1a"
      },
      "outputs": [
        {
          "data": {
            "text/plain": [
              "array([[-1.1431e+02,  3.4190e+01,  1.5000e+01, ...,  4.7200e+02,\n",
              "         1.4936e+00,  6.6900e+04],\n",
              "       [-1.1447e+02,  3.4400e+01,  1.9000e+01, ...,  4.6300e+02,\n",
              "         1.8200e+00,  8.0100e+04],\n",
              "       [-1.1456e+02,  3.3690e+01,  1.7000e+01, ...,  1.1700e+02,\n",
              "         1.6509e+00,  8.5700e+04],\n",
              "       ...,\n",
              "       [-1.2430e+02,  4.1840e+01,  1.7000e+01, ...,  4.5600e+02,\n",
              "         3.0313e+00,  1.0360e+05],\n",
              "       [-1.2430e+02,  4.1800e+01,  1.9000e+01, ...,  4.7800e+02,\n",
              "         1.9797e+00,  8.5800e+04],\n",
              "       [-1.2435e+02,  4.0540e+01,  5.2000e+01, ...,  2.7000e+02,\n",
              "         3.0147e+00,  9.4600e+04]])"
            ]
          },
          "execution_count": 65,
          "metadata": {},
          "output_type": "execute_result"
        }
      ],
      "source": [
        "df = np.array(df)\n",
        "type(df)"
      ]
    },
    {
      "cell_type": "markdown",
      "metadata": {
        "id": "npgrt12t4MCx"
      },
      "source": [
        "## **Loading an Image**"
      ]
    },
    {
      "cell_type": "code",
      "execution_count": null,
      "metadata": {
        "colab": {
          "base_uri": "https://localhost:8080/",
          "height": 217
        },
        "id": "lNPxfKd64YLO",
        "outputId": "2b5328ff-7105-47ce-95f4-604befba0c3a"
      },
      "outputs": [
        {
          "data": {
            "image/jpeg": "[encoded data removed]",
            "image/png": "[encoded data removed]",
            "text/plain": [
              "<PIL.Image.Image image mode=RGB size=200x200>"
            ]
          },
          "execution_count": 69,
          "metadata": {},
          "output_type": "execute_result"
        }
      ],
      "source": [
        "# loading image using the pillow library\n",
        "img = Image.open(\"a_single_image_of_a_professional_female.jpeg\")\n",
        "img = img.resize((200, 200))\n",
        "img"
      ]
    },
    {
      "cell_type": "code",
      "execution_count": null,
      "metadata": {
        "colab": {
          "base_uri": "https://localhost:8080/",
          "height": 886
        },
        "id": "Hb0i4KcU5R8t",
        "outputId": "0de38344-23c8-4c1c-9083-418c9de216c5"
      },
      "outputs": [
        {
          "data": {
            "text/html": [
              "<style>\n",
              "      .ndarray_repr .ndarray_raw_data {\n",
              "        display: none;\n",
              "      }\n",
              "      .ndarray_repr.show_array .ndarray_raw_data {\n",
              "        display: block;\n",
              "      }\n",
              "      .ndarray_repr.show_array .ndarray_image_preview {\n",
              "        display: none;\n",
              "      }\n",
              "      </style>\n",
              "      <div id=\"id-a7cf37e3-850e-4e1e-824e-eaf00aa85a25\" class=\"ndarray_repr\"><pre>ndarray (200, 200, 3) <button style=\"padding: 0 2px;\">show data</button></pre><img src=\"data:image/png;base64,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\" class=\"ndarray_image_preview\" /><pre class=\"ndarray_raw_data\">array([[[ 55,  54,  62],\n",
              "        [ 54,  54,  63],\n",
              "        [ 54,  54,  63],\n",
              "        ...,\n",
              "        [ 49,  54,  61],\n",
              "        [ 45,  55,  54],\n",
              "        [ 47,  50,  50]],\n",
              "\n",
              "       [[ 53,  53,  58],\n",
              "        [ 52,  54,  59],\n",
              "        [ 53,  54,  59],\n",
              "        ...,\n",
              "        [ 52,  57,  62],\n",
              "        [ 48,  54,  56],\n",
              "        [ 48,  51,  53]],\n",
              "\n",
              "       [[ 49,  53,  55],\n",
              "        [ 48,  54,  54],\n",
              "        [ 50,  54,  54],\n",
              "        ...,\n",
              "        [ 53,  60,  63],\n",
              "        [ 51,  54,  60],\n",
              "        [ 47,  53,  57]],\n",
              "\n",
              "       ...,\n",
              "\n",
              "       [[160, 161, 156],\n",
              "        [159, 160, 156],\n",
              "        [160, 159, 157],\n",
              "        ...,\n",
              "        [ 66,  67,  64],\n",
              "        [ 65,  64,  64],\n",
              "        [ 63,  65,  67]],\n",
              "\n",
              "       [[159, 160, 157],\n",
              "        [159, 160, 156],\n",
              "        [160, 160, 156],\n",
              "        ...,\n",
              "        [ 65,  66,  66],\n",
              "        [ 64,  65,  66],\n",
              "        [ 62,  67,  66]],\n",
              "\n",
              "       [[161, 160, 156],\n",
              "        [161, 160, 156],\n",
              "        [160, 160, 156],\n",
              "        ...,\n",
              "        [ 67,  68,  64],\n",
              "        [ 67,  68,  63],\n",
              "        [ 64,  67,  63]]], dtype=uint8)</pre></div><script>\n",
              "      (() => {\n",
              "      const titles = ['show data', 'hide data'];\n",
              "      let index = 0\n",
              "      document.querySelector('#id-a7cf37e3-850e-4e1e-824e-eaf00aa85a25 button').onclick = (e) => {\n",
              "        document.querySelector('#id-a7cf37e3-850e-4e1e-824e-eaf00aa85a25').classList.toggle('show_array');\n",
              "        index = (++index) % 2;\n",
              "        document.querySelector('#id-a7cf37e3-850e-4e1e-824e-eaf00aa85a25 button').textContent = titles[index];\n",
              "        e.preventDefault();\n",
              "        e.stopPropagation();\n",
              "      }\n",
              "      })();\n",
              "    </script>"
            ],
            "text/plain": [
              "array([[[ 55,  54,  62],\n",
              "        [ 54,  54,  63],\n",
              "        [ 54,  54,  63],\n",
              "        ...,\n",
              "        [ 49,  54,  61],\n",
              "        [ 45,  55,  54],\n",
              "        [ 47,  50,  50]],\n",
              "\n",
              "       [[ 53,  53,  58],\n",
              "        [ 52,  54,  59],\n",
              "        [ 53,  54,  59],\n",
              "        ...,\n",
              "        [ 52,  57,  62],\n",
              "        [ 48,  54,  56],\n",
              "        [ 48,  51,  53]],\n",
              "\n",
              "       [[ 49,  53,  55],\n",
              "        [ 48,  54,  54],\n",
              "        [ 50,  54,  54],\n",
              "        ...,\n",
              "        [ 53,  60,  63],\n",
              "        [ 51,  54,  60],\n",
              "        [ 47,  53,  57]],\n",
              "\n",
              "       ...,\n",
              "\n",
              "       [[160, 161, 156],\n",
              "        [159, 160, 156],\n",
              "        [160, 159, 157],\n",
              "        ...,\n",
              "        [ 66,  67,  64],\n",
              "        [ 65,  64,  64],\n",
              "        [ 63,  65,  67]],\n",
              "\n",
              "       [[159, 160, 157],\n",
              "        [159, 160, 156],\n",
              "        [160, 160, 156],\n",
              "        ...,\n",
              "        [ 65,  66,  66],\n",
              "        [ 64,  65,  66],\n",
              "        [ 62,  67,  66]],\n",
              "\n",
              "       [[161, 160, 156],\n",
              "        [161, 160, 156],\n",
              "        [160, 160, 156],\n",
              "        ...,\n",
              "        [ 67,  68,  64],\n",
              "        [ 67,  68,  63],\n",
              "        [ 64,  67,  63]]], dtype=uint8)"
            ]
          },
          "execution_count": 70,
          "metadata": {},
          "output_type": "execute_result"
        }
      ],
      "source": [
        "# converting the image into a numpy array\n",
        "img_array = np.array(img)\n",
        "img_array"
      ]
    },
    {
      "cell_type": "code",
      "execution_count": null,
      "metadata": {
        "colab": {
          "base_uri": "https://localhost:8080/"
        },
        "id": "gjd_gSIf7doN",
        "outputId": "013be867-8f84-4838-c781-def7e7c25c7a"
      },
      "outputs": [
        {
          "data": {
            "text/plain": [
              "array([[2., 0., 0., ..., 0., 0., 0.],\n",
              "       [1., 0., 0., ..., 0., 0., 0.],\n",
              "       [0., 0., 0., ..., 0., 0., 0.],\n",
              "       ...,\n",
              "       [4., 0., 0., ..., 0., 0., 0.],\n",
              "       [5., 0., 0., ..., 0., 0., 0.],\n",
              "       [6., 0., 0., ..., 0., 0., 0.]])"
            ]
          },
          "execution_count": 92,
          "metadata": {},
          "output_type": "execute_result"
        }
      ],
      "source": [
        "data"
      ]
    },
    {
      "cell_type": "code",
      "execution_count": null,
      "metadata": {
        "colab": {
          "base_uri": "https://localhost:8080/",
          "height": 472
        },
        "id": "Dq8wZPZ36WkM",
        "outputId": "6624a72f-ac2e-4694-ff1b-2c35ee0b320c"
      },
      "outputs": [
        {
          "data": {
            "image/png": "[encoded data removed]",
            "text/plain": [
              "<Figure size 640x480 with 1 Axes>"
            ]
          },
          "metadata": {},
          "output_type": "display_data"
        }
      ],
      "source": [
        "# plotting using matplotlib\n",
        "plt.imshow(img_array, cmap='gray')\n",
        "plt.xlabel(\"X-axis\")\n",
        "plt.ylabel(\"Y-axis\")\n",
        "plt.title(\"Image\")\n",
        "plt.show()"
      ]
    },
    {
      "cell_type": "markdown",
      "metadata": {
        "id": "D58TpLZh9fVc"
      },
      "source": [
        "# **joining Arrays**"
      ]
    },
    {
      "cell_type": "code",
      "execution_count": null,
      "metadata": {
        "id": "bMuGjupE9tBU"
      },
      "outputs": [],
      "source": [
        "# using concatenate\n",
        "arr1 = np.random.randint(1, 200, size=(2, 10))\n",
        "arr12 = np.random.randint(1, 200, size=(3, 10))"
      ]
    },
    {
      "cell_type": "code",
      "execution_count": null,
      "metadata": {
        "colab": {
          "background_save": true,
          "base_uri": "https://localhost:8080/"
        },
        "id": "fj0-gqBx-boc",
        "outputId": "7424db4e-24ee-486e-e121-b7fc70cfc31e"
      },
      "outputs": [
        {
          "name": "stdout",
          "output_type": "stream",
          "text": [
            "Array One :  [[195  96 195 155  93 160 178  61 122  51]\n",
            " [147  21   5  92 170  61  22 149  70   1]]\n",
            "Array Two :  [[133  12  90  46  34 177  78  45 155  73]\n",
            " [ 26  47 121  56  94 107  63  48  61  81]\n",
            " [ 26  36   1   8 113  99 180  47 127  56]]\n"
          ]
        }
      ],
      "source": [
        "print(\"Array One : \", arr1)\n",
        "print(\"Array Two : \", arr12)"
      ]
    },
    {
      "cell_type": "code",
      "execution_count": null,
      "metadata": {
        "colab": {
          "background_save": true,
          "base_uri": "https://localhost:8080/"
        },
        "id": "N5kp2zNy-1fN",
        "outputId": "9f796279-d8df-425c-8401-4a999b11d989"
      },
      "outputs": [
        {
          "data": {
            "text/plain": [
              "array([[195,  96, 195, 155,  93, 160, 178,  61, 122,  51],\n",
              "       [147,  21,   5,  92, 170,  61,  22, 149,  70,   1],\n",
              "       [133,  12,  90,  46,  34, 177,  78,  45, 155,  73],\n",
              "       [ 26,  47, 121,  56,  94, 107,  63,  48,  61,  81],\n",
              "       [ 26,  36,   1,   8, 113,  99, 180,  47, 127,  56]])"
            ]
          },
          "execution_count": 112,
          "metadata": {},
          "output_type": "execute_result"
        }
      ],
      "source": [
        "np.concatenate((arr1, arr12))"
      ]
    },
    {
      "cell_type": "markdown",
      "source": [
        "## **Stacking array**"
      ],
      "metadata": {
        "id": "mZXCpYz5xbSv"
      }
    },
    {
      "cell_type": "code",
      "execution_count": null,
      "metadata": {
        "id": "jzNngeKH_Hnr"
      },
      "outputs": [],
      "source": [
        "np.random.seed(42)\n",
        "arr1 = np.random.random((10, 2))\n",
        "arr2 = np.random.randint(1, 100, size=(10, 2))"
      ]
    },
    {
      "cell_type": "code",
      "source": [
        "# stacking\n",
        "np.stack((arr1, arr2))"
      ],
      "metadata": {
        "colab": {
          "base_uri": "https://localhost:8080/"
        },
        "id": "-9V_ACGVymtg",
        "outputId": "87228abf-de85-41da-f3ac-98f445f7d21f"
      },
      "execution_count": null,
      "outputs": [
        {
          "output_type": "execute_result",
          "data": {
            "text/plain": [
              "array([[[3.74540119e-01, 9.50714306e-01],\n",
              "        [7.31993942e-01, 5.98658484e-01],\n",
              "        [1.56018640e-01, 1.55994520e-01],\n",
              "        [5.80836122e-02, 8.66176146e-01],\n",
              "        [6.01115012e-01, 7.08072578e-01],\n",
              "        [2.05844943e-02, 9.69909852e-01],\n",
              "        [8.32442641e-01, 2.12339111e-01],\n",
              "        [1.81824967e-01, 1.83404510e-01],\n",
              "        [3.04242243e-01, 5.24756432e-01],\n",
              "        [4.31945019e-01, 2.91229140e-01]],\n",
              "\n",
              "       [[5.90000000e+01, 4.20000000e+01],\n",
              "        [9.20000000e+01, 6.00000000e+01],\n",
              "        [8.00000000e+01, 1.50000000e+01],\n",
              "        [6.20000000e+01, 6.20000000e+01],\n",
              "        [4.70000000e+01, 6.20000000e+01],\n",
              "        [5.10000000e+01, 5.50000000e+01],\n",
              "        [6.40000000e+01, 3.00000000e+00],\n",
              "        [5.10000000e+01, 7.00000000e+00],\n",
              "        [2.10000000e+01, 7.30000000e+01],\n",
              "        [3.90000000e+01, 1.80000000e+01]]])"
            ]
          },
          "metadata": {},
          "execution_count": 20
        }
      ]
    },
    {
      "cell_type": "code",
      "source": [
        "# Horizontal stacking\n",
        "np.hstack((arr1, arr2))"
      ],
      "metadata": {
        "colab": {
          "base_uri": "https://localhost:8080/"
        },
        "id": "NJpKSOrWzbHZ",
        "outputId": "55c92e2e-2d65-48ee-a6ce-8c08cb32f819"
      },
      "execution_count": null,
      "outputs": [
        {
          "output_type": "execute_result",
          "data": {
            "text/plain": [
              "array([[3.74540119e-01, 9.50714306e-01, 5.90000000e+01, 4.20000000e+01],\n",
              "       [7.31993942e-01, 5.98658484e-01, 9.20000000e+01, 6.00000000e+01],\n",
              "       [1.56018640e-01, 1.55994520e-01, 8.00000000e+01, 1.50000000e+01],\n",
              "       [5.80836122e-02, 8.66176146e-01, 6.20000000e+01, 6.20000000e+01],\n",
              "       [6.01115012e-01, 7.08072578e-01, 4.70000000e+01, 6.20000000e+01],\n",
              "       [2.05844943e-02, 9.69909852e-01, 5.10000000e+01, 5.50000000e+01],\n",
              "       [8.32442641e-01, 2.12339111e-01, 6.40000000e+01, 3.00000000e+00],\n",
              "       [1.81824967e-01, 1.83404510e-01, 5.10000000e+01, 7.00000000e+00],\n",
              "       [3.04242243e-01, 5.24756432e-01, 2.10000000e+01, 7.30000000e+01],\n",
              "       [4.31945019e-01, 2.91229140e-01, 3.90000000e+01, 1.80000000e+01]])"
            ]
          },
          "metadata": {},
          "execution_count": 21
        }
      ]
    },
    {
      "cell_type": "code",
      "source": [
        "# transposing an array\n",
        "arr1.T"
      ],
      "metadata": {
        "colab": {
          "base_uri": "https://localhost:8080/"
        },
        "id": "TREanJz1z8XX",
        "outputId": "afb5e8d6-d384-4092-d23f-2da466717ec5"
      },
      "execution_count": null,
      "outputs": [
        {
          "output_type": "execute_result",
          "data": {
            "text/plain": [
              "array([[0.37454012, 0.73199394, 0.15601864, 0.05808361, 0.60111501,\n",
              "        0.02058449, 0.83244264, 0.18182497, 0.30424224, 0.43194502],\n",
              "       [0.95071431, 0.59865848, 0.15599452, 0.86617615, 0.70807258,\n",
              "        0.96990985, 0.21233911, 0.18340451, 0.52475643, 0.29122914]])"
            ]
          },
          "metadata": {},
          "execution_count": 22
        }
      ]
    },
    {
      "cell_type": "code",
      "source": [
        "# flattening an array\n",
        "flat_arr = arr1.flatten()\n",
        "print(\"Shape : \", flat_arr.shape)\n",
        "print(\"Dimension : \", flat_arr.ndim)\n",
        "print(\"Data : \", flat_arr)"
      ],
      "metadata": {
        "colab": {
          "base_uri": "https://localhost:8080/"
        },
        "id": "FO-ksA0z0KLw",
        "outputId": "5246d626-fb22-435f-d32f-adb7f482e675"
      },
      "execution_count": null,
      "outputs": [
        {
          "output_type": "stream",
          "name": "stdout",
          "text": [
            "Shape :  (20,)\n",
            "Dimension :  1\n",
            "Data :  [0.37454012 0.95071431 0.73199394 0.59865848 0.15601864 0.15599452\n",
            " 0.05808361 0.86617615 0.60111501 0.70807258 0.02058449 0.96990985\n",
            " 0.83244264 0.21233911 0.18182497 0.18340451 0.30424224 0.52475643\n",
            " 0.43194502 0.29122914]\n"
          ]
        }
      ]
    },
    {
      "cell_type": "markdown",
      "source": [
        "### **Splitting and array**\n"
      ],
      "metadata": {
        "id": "EbvG1aAbzzIH"
      }
    },
    {
      "cell_type": "code",
      "source": [
        "# splitting an array\n",
        "v_split = np.split(flat_arr, 10)\n",
        "v_split = np.array(v_split)\n",
        "print(\"Shape : \", v_split.shape)\n",
        "print(\"Dimension : \", v_split.ndim)\n",
        "print(\"Data Type : \", type(v_split))\n"
      ],
      "metadata": {
        "colab": {
          "base_uri": "https://localhost:8080/"
        },
        "id": "1aRNQiRd0fTK",
        "outputId": "50339e8c-a3d5-4f11-aeb0-19fd9676a6e4"
      },
      "execution_count": null,
      "outputs": [
        {
          "output_type": "stream",
          "name": "stdout",
          "text": [
            "Shape :  (10, 2)\n",
            "Dimension :  2\n",
            "Data Type :  <class 'numpy.ndarray'>\n"
          ]
        }
      ]
    },
    {
      "cell_type": "code",
      "source": [
        "# Details of arr1\n",
        "print(\"Shape : \", arr1.shape)\n",
        "print(\"Dimension : \", arr1.ndim)\n",
        "print(\"Data Type : \", type(arr1))\n",
        "print(\"Data Type : \", type(arr1))\n"
      ],
      "metadata": {
        "colab": {
          "base_uri": "https://localhost:8080/"
        },
        "id": "NfcHJ1Ii2vK2",
        "outputId": "ed2a27ae-72e4-4cfd-f69a-f1ee711458f0"
      },
      "execution_count": null,
      "outputs": [
        {
          "output_type": "stream",
          "name": "stdout",
          "text": [
            "Shape :  (10, 2)\n",
            "Dimension :  2\n",
            "Data Type :  <class 'numpy.ndarray'>\n"
          ]
        }
      ]
    },
    {
      "cell_type": "code",
      "source": [
        "# horizontal splitting\n",
        "v_split = np.vsplit(arr1, 10)\n",
        "v_split = np.array(v_split)\n",
        "print(\"Shape : \", arr1.shape)\n",
        "print(\"Dimension : \", arr1.ndim)\n",
        "print(\"Data Type : \", type(arr1))\n",
        "print(\"Data : \", arr1)"
      ],
      "metadata": {
        "colab": {
          "base_uri": "https://localhost:8080/"
        },
        "id": "5xc6n7u-1PIm",
        "outputId": "690bef87-15c2-46cc-ca03-424fdab529e9"
      },
      "execution_count": null,
      "outputs": [
        {
          "output_type": "stream",
          "name": "stdout",
          "text": [
            "Shape :  (10, 2)\n",
            "Dimension :  2\n",
            "Data Type :  <class 'numpy.ndarray'>\n",
            "Data :  [[0.37454012 0.95071431]\n",
            " [0.73199394 0.59865848]\n",
            " [0.15601864 0.15599452]\n",
            " [0.05808361 0.86617615]\n",
            " [0.60111501 0.70807258]\n",
            " [0.02058449 0.96990985]\n",
            " [0.83244264 0.21233911]\n",
            " [0.18182497 0.18340451]\n",
            " [0.30424224 0.52475643]\n",
            " [0.43194502 0.29122914]]\n"
          ]
        }
      ]
    },
    {
      "cell_type": "markdown",
      "source": [
        "## **Sorting an Array**"
      ],
      "metadata": {
        "id": "4CiKdDF330tG"
      }
    },
    {
      "cell_type": "code",
      "source": [
        "# sorting in ascending order\n",
        "sort_array = np.random.randint(1, 100, size=(10))\n",
        "np.sort(sort_array)"
      ],
      "metadata": {
        "colab": {
          "base_uri": "https://localhost:8080/"
        },
        "id": "FliYtQT54HcA",
        "outputId": "a39c1919-12a0-4df9-d314-2869763e6504"
      },
      "execution_count": null,
      "outputs": [
        {
          "output_type": "execute_result",
          "data": {
            "text/plain": [
              "array([ 8, 35, 36, 44, 47, 50, 60, 71, 78, 81])"
            ]
          },
          "metadata": {},
          "execution_count": 42
        }
      ]
    },
    {
      "cell_type": "code",
      "source": [
        "# sorting in descending order\n",
        "np.sort(sort_array, )[::-1]"
      ],
      "metadata": {
        "colab": {
          "base_uri": "https://localhost:8080/"
        },
        "id": "CAkUyROO4bnJ",
        "outputId": "52ee948d-26e9-4a0a-859a-1eca9fbd4f2b"
      },
      "execution_count": null,
      "outputs": [
        {
          "output_type": "execute_result",
          "data": {
            "text/plain": [
              "array([81, 78, 71, 60, 50, 47, 44, 36, 35,  8])"
            ]
          },
          "metadata": {},
          "execution_count": 43
        }
      ]
    },
    {
      "cell_type": "markdown",
      "source": [
        "### **Shuffling an Array**\n"
      ],
      "metadata": {
        "id": "Yy1ekXbK4247"
      }
    },
    {
      "cell_type": "code",
      "source": [
        "np.random.shuffle(sort_array)\n",
        "sort_array"
      ],
      "metadata": {
        "colab": {
          "base_uri": "https://localhost:8080/"
        },
        "id": "zlKv7vKy4-T_",
        "outputId": "b46dd7b9-9c48-4d1a-f969-6935bf3c9078"
      },
      "execution_count": null,
      "outputs": [
        {
          "output_type": "execute_result",
          "data": {
            "text/plain": [
              "array([44, 60, 47, 36, 50, 78, 35, 71,  8, 81])"
            ]
          },
          "metadata": {},
          "execution_count": 44
        }
      ]
    },
    {
      "cell_type": "markdown",
      "source": [
        "# **Comparing speed of execution in numpy to python**"
      ],
      "metadata": {
        "id": "8YZH5WJd5F4w"
      }
    },
    {
      "cell_type": "code",
      "source": [
        "%%time\n",
        "import random\n",
        "rand_python = [random.randint(0, 100000) for i in range(1000000)]\n",
        "res = rand_python * 100"
      ],
      "metadata": {
        "colab": {
          "base_uri": "https://localhost:8080/"
        },
        "id": "790WSeJF5SgJ",
        "outputId": "15fbe02b-af5e-49d3-b5e5-36272a0d4f4e"
      },
      "execution_count": null,
      "outputs": [
        {
          "output_type": "stream",
          "name": "stdout",
          "text": [
            "CPU times: user 1.12 s, sys: 473 ms, total: 1.59 s\n",
            "Wall time: 1.59 s\n"
          ]
        }
      ]
    },
    {
      "cell_type": "code",
      "source": [
        "%%time\n",
        "num_random = np.random.randint(0, 100000, size=(1000000))\n",
        "res = num_random * 100"
      ],
      "metadata": {
        "colab": {
          "base_uri": "https://localhost:8080/"
        },
        "id": "F5T0CqSL7iTZ",
        "outputId": "91b583fa-2d66-4949-f0b0-83569f53e9aa"
      },
      "execution_count": null,
      "outputs": [
        {
          "output_type": "stream",
          "name": "stdout",
          "text": [
            "CPU times: user 15.2 ms, sys: 5.03 ms, total: 20.3 ms\n",
            "Wall time: 22 ms\n"
          ]
        }
      ]
    },
    {
      "cell_type": "code",
      "source": [
        "import time\n",
        "import random\n",
        "current_time = time.time()\n",
        "print(current_time)\n",
        "rand_python = [random.randint(0, 100000) for i in range(1000000)]\n",
        "res = rand_python * 100\n",
        "print(time.time())\n",
        "print(time.time() - current_time)"
      ],
      "metadata": {
        "colab": {
          "base_uri": "https://localhost:8080/"
        },
        "id": "AW-onXxZ806H",
        "outputId": "ffdfbf9b-e812-4bc7-99a0-8c54a054d68f"
      },
      "execution_count": null,
      "outputs": [
        {
          "output_type": "stream",
          "name": "stdout",
          "text": [
            "1745786187.769589\n",
            "1745786188.9751902\n",
            "1.2061269283294678\n"
          ]
        }
      ]
    },
    {
      "cell_type": "code",
      "source": [
        "import time\n",
        "current_time = time.time()\n",
        "print(current_time)\n",
        "num_random = np.random.randint(0, 100000, size=(1000000))\n",
        "res = num_random * 100\n",
        "print(time.time())\n",
        "print(time.time() - current_time)"
      ],
      "metadata": {
        "colab": {
          "base_uri": "https://localhost:8080/"
        },
        "id": "wS7ij4KN9N4J",
        "outputId": "f04406a9-8e5c-4bac-c84a-bd812fd02f5f"
      },
      "execution_count": null,
      "outputs": [
        {
          "output_type": "stream",
          "name": "stdout",
          "text": [
            "1745786211.8962648\n",
            "1745786211.9145036\n",
            "0.018326997756958008\n"
          ]
        }
      ]
    },
    {
      "cell_type": "markdown",
      "source": [
        "# **Different ways to get data for Analysis**\n",
        "- Kaggle\n",
        "- datasets from sns library\n",
        "- dataset from Hugginface\n",
        "- Dataset from pandas-datareader\n",
        "- Dataset from scikitlearn\n"
      ],
      "metadata": {
        "id": "854ELr30-fyT"
      }
    },
    {
      "cell_type": "markdown",
      "source": [
        "## **Fetching Data from Kaggle**\n"
      ],
      "metadata": {
        "id": "i29Tzz0vAuRm"
      }
    },
    {
      "cell_type": "code",
      "source": [
        "!mkdir ~/.kaggle\n",
        "!mv kaggle.json ~/.kaggle/\n",
        "!chmod 600 ~/.kaggle/kaggle.json"
      ],
      "metadata": {
        "colab": {
          "base_uri": "https://localhost:8080/"
        },
        "id": "HnbUjEBZEVkO",
        "outputId": "539a852c-95eb-4a0e-e1d8-6787b00886fe"
      },
      "execution_count": null,
      "outputs": [
        {
          "output_type": "stream",
          "name": "stdout",
          "text": [
            "mkdir: cannot create directory ‘/root/.kaggle’: File exists\n"
          ]
        }
      ]
    },
    {
      "cell_type": "code",
      "source": [
        "#!/bin/bash\n",
        "!kaggle datasets download karkavelrajaj/amazon-sales-dataset"
      ],
      "metadata": {
        "colab": {
          "base_uri": "https://localhost:8080/"
        },
        "id": "iFHDssYeBGj3",
        "outputId": "f8e4ce9e-6d54-4f09-e2e8-937ca848e17f"
      },
      "execution_count": null,
      "outputs": [
        {
          "output_type": "stream",
          "name": "stdout",
          "text": [
            "Warning: Your Kaggle API key is readable by other users on this system! To fix this, you can run 'chmod 600 /root/.kaggle/kaggle.json'\n",
            "Dataset URL: https://www.kaggle.com/datasets/karkavelrajaj/amazon-sales-dataset\n",
            "License(s): CC-BY-NC-SA-4.0\n"
          ]
        }
      ]
    }
  ],
  "metadata": {
    "colab": {
      "provenance": [],
      "include_colab_link": true
    },
    "kernelspec": {
      "display_name": "Python 3",
      "name": "python3"
    },
    "language_info": {
      "name": "python"
    }
  },
  "nbformat": 4,
  "nbformat_minor": 0
}