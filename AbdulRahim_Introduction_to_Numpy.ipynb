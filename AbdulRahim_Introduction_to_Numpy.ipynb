{
  "nbformat": 4,
  "nbformat_minor": 0,
  "metadata": {
    "colab": {
      "provenance": [],
      "include_colab_link": true
    },
    "kernelspec": {
      "name": "python3",
      "display_name": "Python 3"
    },
    "language_info": {
      "name": "python"
    }
  },
  "cells": [
    {
      "cell_type": "markdown",
      "metadata": {
        "id": "view-in-github",
        "colab_type": "text"
      },
      "source": [
        "<a href=\"https://colab.research.google.com/github/abdulabba0/abdulpython/blob/main/AbdulRahim_Introduction_to_Numpy.ipynb\" target=\"_parent\"><img src=\"https://colab.research.google.com/assets/colab-badge.svg\" alt=\"Open In Colab\"/></a>"
      ]
    },
    {
      "cell_type": "markdown",
      "source": [
        "# **Introduction to Numpy for Data Analytics**\n",
        "\n",
        "> ## **What is Numpy**\n",
        "Numpy stand for Numerical PYTHON, it is a fundamental library for numerical computing in Python. It provide support for large multidimensional array and matrices, along with an etensive collection of mathematical functions to perform operations efficiently.\n",
        "\n",
        "Numpy is widely use in Data Analytics and Finance, engineering etc.\n",
        "\n",
        "\n",
        "> ## **Why Use Numpy**\n"
      ],
      "metadata": {
        "id": "XU_5LdPKx_LP"
      }
    },
    {
      "cell_type": "code",
      "source": [
        "import numpy as np"
      ],
      "metadata": {
        "id": "GvjRfCga3XKc"
      },
      "execution_count": 1,
      "outputs": []
    },
    {
      "cell_type": "code",
      "source": [
        "print(np.__version__)"
      ],
      "metadata": {
        "colab": {
          "base_uri": "https://localhost:8080/"
        },
        "id": "MZEpUDFv3-20",
        "outputId": "cc29b2da-092f-41f3-9f55-ba16386b749b"
      },
      "execution_count": 2,
      "outputs": [
        {
          "output_type": "stream",
          "name": "stdout",
          "text": [
            "2.0.2\n"
          ]
        }
      ]
    },
    {
      "cell_type": "markdown",
      "source": [
        "### **Creating a Numpy Array**"
      ],
      "metadata": {
        "id": "KiCJjqlB4Vd0"
      }
    },
    {
      "cell_type": "code",
      "source": [
        "# Basic Numpy Array\n",
        "# creating a numpy array\n",
        "# vector or 1 dimensional array\n",
        "\n",
        "arr = np.array([1, 2, 3, 4])\n",
        "arr"
      ],
      "metadata": {
        "colab": {
          "base_uri": "https://localhost:8080/"
        },
        "id": "UewmVgHY4wDj",
        "outputId": "a8065e5e-a866-4d0f-f878-b76f036dbd34"
      },
      "execution_count": 3,
      "outputs": [
        {
          "output_type": "execute_result",
          "data": {
            "text/plain": [
              "array([1, 2, 3, 4])"
            ]
          },
          "metadata": {},
          "execution_count": 3
        }
      ]
    },
    {
      "cell_type": "markdown",
      "source": [
        "### **Array Properties**"
      ],
      "metadata": {
        "id": "1W2pSBMc4yPc"
      }
    },
    {
      "cell_type": "code",
      "source": [
        "# checking the shape of the array\n",
        "print(f\"The shape of the array is:  {arr.shape}\")\n",
        "print(f\"Array Dimension:  {arr.ndim}\")\n",
        "print(f\"Array Data Type:  {arr.dtype}\")"
      ],
      "metadata": {
        "colab": {
          "base_uri": "https://localhost:8080/"
        },
        "id": "SG9PXQ2Z4221",
        "outputId": "943f34bf-368b-43e0-85fa-39b83ad1bce7"
      },
      "execution_count": 4,
      "outputs": [
        {
          "output_type": "stream",
          "name": "stdout",
          "text": [
            "The shape of the array is:  (4,)\n",
            "Array Dimension:  1\n",
            "Array Data Type:  int64\n"
          ]
        }
      ]
    },
    {
      "cell_type": "code",
      "source": [
        "# 2 Dimensional Array\n",
        "arr2 = np.array([\n",
        " [1, 2, 3],\n",
        " [2, 3, 4],\n",
        " [3, 4, 5],\n",
        " [4, 5, 6]\n",
        "                 ])"
      ],
      "metadata": {
        "id": "Avt7PmAV5gsk"
      },
      "execution_count": 5,
      "outputs": []
    },
    {
      "cell_type": "code",
      "source": [
        "print(f\"The shape of the array is:  {arr2.shape}\")\n",
        "print(f\"Array Dimension:  {arr2.ndim}\")"
      ],
      "metadata": {
        "colab": {
          "base_uri": "https://localhost:8080/"
        },
        "id": "_62ogwTs6QrU",
        "outputId": "4edfd178-5c97-429d-dfe0-c05a17f96681"
      },
      "execution_count": 6,
      "outputs": [
        {
          "output_type": "stream",
          "name": "stdout",
          "text": [
            "The shape of the array is:  (4, 3)\n",
            "Array Dimension:  2\n"
          ]
        }
      ]
    },
    {
      "cell_type": "code",
      "source": [
        "dim_3_array = np.array([\n",
        "    [[2, 3, 4],\n",
        "     [4, 5, 6]],\n",
        "    [[4, 5, 7],\n",
        "    [3, 6, 7]]\n",
        "])"
      ],
      "metadata": {
        "id": "pAXFruPE7ZZT"
      },
      "execution_count": 7,
      "outputs": []
    },
    {
      "cell_type": "code",
      "source": [
        "print(f\"The shape of the array is:  {dim_3_array.shape}\")\n",
        "print(f\"Array Dimension:  {dim_3_array.ndim}\")"
      ],
      "metadata": {
        "colab": {
          "base_uri": "https://localhost:8080/"
        },
        "id": "WkplgrxU7v4G",
        "outputId": "415b05ce-e53b-402e-9086-cd273ee35607"
      },
      "execution_count": 8,
      "outputs": [
        {
          "output_type": "stream",
          "name": "stdout",
          "text": [
            "The shape of the array is:  (2, 2, 3)\n",
            "Array Dimension:  3\n"
          ]
        }
      ]
    },
    {
      "cell_type": "markdown",
      "source": [
        "### **Different ways of creating an Array in Numpy**\n",
        "\n",
        "> You can create a numpt array from a\n",
        "- Python List\n",
        "- Python Tuple\n",
        "- Random float array using np.random\n",
        "- we can create a range of array using  np.arange\n",
        "- using np.full\n",
        "- using np.zeros\n",
        "- using np.linspace\n",
        "- using np.ones"
      ],
      "metadata": {
        "id": "s-M7xVek8xqP"
      }
    },
    {
      "cell_type": "code",
      "source": [
        "# creating an array of zeros\n",
        "np.zeros((3, 3))"
      ],
      "metadata": {
        "colab": {
          "base_uri": "https://localhost:8080/"
        },
        "id": "VmUKSq_R9SH_",
        "outputId": "2d36fc4e-a965-4fce-cbba-1e67ca702a4a"
      },
      "execution_count": 9,
      "outputs": [
        {
          "output_type": "execute_result",
          "data": {
            "text/plain": [
              "array([[0., 0., 0.],\n",
              "       [0., 0., 0.],\n",
              "       [0., 0., 0.]])"
            ]
          },
          "metadata": {},
          "execution_count": 9
        }
      ]
    },
    {
      "cell_type": "code",
      "source": [
        "# creating an array of ones\n",
        "np.ones((3, 3))"
      ],
      "metadata": {
        "colab": {
          "base_uri": "https://localhost:8080/"
        },
        "id": "kJb4yg9_93Ok",
        "outputId": "75a141d0-0647-4e1b-9378-ae0f28078268"
      },
      "execution_count": 10,
      "outputs": [
        {
          "output_type": "execute_result",
          "data": {
            "text/plain": [
              "array([[1., 1., 1.],\n",
              "       [1., 1., 1.],\n",
              "       [1., 1., 1.]])"
            ]
          },
          "metadata": {},
          "execution_count": 10
        }
      ]
    },
    {
      "cell_type": "code",
      "source": [
        "# creating an array of certain range of number'\n",
        "np.arange(1, 100, 2)"
      ],
      "metadata": {
        "colab": {
          "base_uri": "https://localhost:8080/"
        },
        "id": "Oq3GnztC-G7T",
        "outputId": "3f6bd12e-d2f6-4230-81f9-1e685e0f8df8"
      },
      "execution_count": 11,
      "outputs": [
        {
          "output_type": "execute_result",
          "data": {
            "text/plain": [
              "array([ 1,  3,  5,  7,  9, 11, 13, 15, 17, 19, 21, 23, 25, 27, 29, 31, 33,\n",
              "       35, 37, 39, 41, 43, 45, 47, 49, 51, 53, 55, 57, 59, 61, 63, 65, 67,\n",
              "       69, 71, 73, 75, 77, 79, 81, 83, 85, 87, 89, 91, 93, 95, 97, 99])"
            ]
          },
          "metadata": {},
          "execution_count": 11
        }
      ]
    },
    {
      "cell_type": "code",
      "source": [
        "# creating an evenly space array\n",
        "np.linspace(0, 1, num=100)"
      ],
      "metadata": {
        "colab": {
          "base_uri": "https://localhost:8080/"
        },
        "id": "xdgW7xEN-kqi",
        "outputId": "5c97de77-a9d9-4ffa-84bf-731184d375cc"
      },
      "execution_count": 12,
      "outputs": [
        {
          "output_type": "execute_result",
          "data": {
            "text/plain": [
              "array([0.        , 0.01010101, 0.02020202, 0.03030303, 0.04040404,\n",
              "       0.05050505, 0.06060606, 0.07070707, 0.08080808, 0.09090909,\n",
              "       0.1010101 , 0.11111111, 0.12121212, 0.13131313, 0.14141414,\n",
              "       0.15151515, 0.16161616, 0.17171717, 0.18181818, 0.19191919,\n",
              "       0.2020202 , 0.21212121, 0.22222222, 0.23232323, 0.24242424,\n",
              "       0.25252525, 0.26262626, 0.27272727, 0.28282828, 0.29292929,\n",
              "       0.3030303 , 0.31313131, 0.32323232, 0.33333333, 0.34343434,\n",
              "       0.35353535, 0.36363636, 0.37373737, 0.38383838, 0.39393939,\n",
              "       0.4040404 , 0.41414141, 0.42424242, 0.43434343, 0.44444444,\n",
              "       0.45454545, 0.46464646, 0.47474747, 0.48484848, 0.49494949,\n",
              "       0.50505051, 0.51515152, 0.52525253, 0.53535354, 0.54545455,\n",
              "       0.55555556, 0.56565657, 0.57575758, 0.58585859, 0.5959596 ,\n",
              "       0.60606061, 0.61616162, 0.62626263, 0.63636364, 0.64646465,\n",
              "       0.65656566, 0.66666667, 0.67676768, 0.68686869, 0.6969697 ,\n",
              "       0.70707071, 0.71717172, 0.72727273, 0.73737374, 0.74747475,\n",
              "       0.75757576, 0.76767677, 0.77777778, 0.78787879, 0.7979798 ,\n",
              "       0.80808081, 0.81818182, 0.82828283, 0.83838384, 0.84848485,\n",
              "       0.85858586, 0.86868687, 0.87878788, 0.88888889, 0.8989899 ,\n",
              "       0.90909091, 0.91919192, 0.92929293, 0.93939394, 0.94949495,\n",
              "       0.95959596, 0.96969697, 0.97979798, 0.98989899, 1.        ])"
            ]
          },
          "metadata": {},
          "execution_count": 12
        }
      ]
    },
    {
      "cell_type": "code",
      "source": [
        "# creating a numpy array using python list\n",
        "\n",
        "py_list = [1, 2, 3, 4, 5]\n",
        "np_list = np.array(py_list)\n",
        "print(\"Data Type: \", np_list.dtype)\n",
        "print(\"Checking data type using python \", type(np_list))"
      ],
      "metadata": {
        "colab": {
          "base_uri": "https://localhost:8080/"
        },
        "id": "pdM3j5TOqsop",
        "outputId": "592cac92-d560-4461-ab89-3bf5bdce8e1c"
      },
      "execution_count": 13,
      "outputs": [
        {
          "output_type": "stream",
          "name": "stdout",
          "text": [
            "Data Type:  int64\n",
            "Checking data type using python  <class 'numpy.ndarray'>\n"
          ]
        }
      ]
    },
    {
      "cell_type": "code",
      "source": [
        "# creating a numpy array using python tuple\n",
        "\n",
        "py_tuple = (1, 2, 3, 4, 5)\n",
        "np_tuple = np.array(py_tuple)\n",
        "print(\"Data Type: \", np_tuple.dtype)\n",
        "print(\"Checking data type using python \", type(np_tuple))"
      ],
      "metadata": {
        "colab": {
          "base_uri": "https://localhost:8080/"
        },
        "outputId": "4fdede5b-db37-4203-82b7-11722564a4e2",
        "id": "AKwgXcZirdwO"
      },
      "execution_count": 14,
      "outputs": [
        {
          "output_type": "stream",
          "name": "stdout",
          "text": [
            "Data Type:  int64\n",
            "Checking data type using python  <class 'numpy.ndarray'>\n"
          ]
        }
      ]
    },
    {
      "cell_type": "code",
      "source": [
        "# creating an array using python rnadom module\n",
        "\n",
        "rand_mod = np.random.random()\n",
        "rand_mod"
      ],
      "metadata": {
        "colab": {
          "base_uri": "https://localhost:8080/"
        },
        "id": "Hb8NYEwar0s2",
        "outputId": "e4afdeb3-5ba9-453e-e48a-8ba1a95d8005"
      },
      "execution_count": 15,
      "outputs": [
        {
          "output_type": "execute_result",
          "data": {
            "text/plain": [
              "0.8373241621179499"
            ]
          },
          "metadata": {},
          "execution_count": 15
        }
      ]
    },
    {
      "cell_type": "code",
      "source": [
        "multidim_random = np.random.random((3, 3))\n",
        "multidim_random"
      ],
      "metadata": {
        "colab": {
          "base_uri": "https://localhost:8080/"
        },
        "id": "bgOxDuI0sZK0",
        "outputId": "956061fb-f7d5-4cac-9d82-1af62f16f736"
      },
      "execution_count": 16,
      "outputs": [
        {
          "output_type": "execute_result",
          "data": {
            "text/plain": [
              "array([[0.78106401, 0.77808253, 0.73415659],\n",
              "       [0.41593469, 0.48077601, 0.67863844],\n",
              "       [0.06504252, 0.75831154, 0.99833164]])"
            ]
          },
          "metadata": {},
          "execution_count": 16
        }
      ]
    },
    {
      "cell_type": "code",
      "source": [
        "# creating random integers\n",
        "rand_int = np.random.randint(1, 100, size=(3, 3))\n",
        "rand_int"
      ],
      "metadata": {
        "colab": {
          "base_uri": "https://localhost:8080/"
        },
        "id": "3Tv94C0Xst4p",
        "outputId": "e32608c4-6b58-47aa-cda9-b7f2fa690779"
      },
      "execution_count": 17,
      "outputs": [
        {
          "output_type": "execute_result",
          "data": {
            "text/plain": [
              "array([[86, 71, 54],\n",
              "       [22, 78,  3],\n",
              "       [33, 58, 48]])"
            ]
          },
          "metadata": {},
          "execution_count": 17
        }
      ]
    },
    {
      "cell_type": "code",
      "source": [
        "# random samples\n",
        "np.random.random_sample((4, 3))"
      ],
      "metadata": {
        "colab": {
          "base_uri": "https://localhost:8080/"
        },
        "id": "JmQeO8_Vs8ea",
        "outputId": "a866e280-95fc-4898-e67f-a2512dbcf755"
      },
      "execution_count": 18,
      "outputs": [
        {
          "output_type": "execute_result",
          "data": {
            "text/plain": [
              "array([[0.10483115, 0.40099678, 0.5005931 ],\n",
              "       [0.05064081, 0.47062643, 0.64029301],\n",
              "       [0.90979043, 0.66881681, 0.83310409],\n",
              "       [0.77570398, 0.64250939, 0.26710547]])"
            ]
          },
          "metadata": {},
          "execution_count": 18
        }
      ]
    },
    {
      "cell_type": "code",
      "source": [
        "# using np.full\n",
        "\n",
        "full_array = np.full((3, 3), 5)\n",
        "full_array"
      ],
      "metadata": {
        "colab": {
          "base_uri": "https://localhost:8080/"
        },
        "id": "Ct8Rt2UFtXWA",
        "outputId": "9fb0b1ac-1d5c-4e23-db0a-f799938fe6f0"
      },
      "execution_count": 19,
      "outputs": [
        {
          "output_type": "execute_result",
          "data": {
            "text/plain": [
              "array([[5, 5, 5],\n",
              "       [5, 5, 5],\n",
              "       [5, 5, 5]])"
            ]
          },
          "metadata": {},
          "execution_count": 19
        }
      ]
    },
    {
      "cell_type": "markdown",
      "source": [
        "### **Array Indexing and Slicing**"
      ],
      "metadata": {
        "id": "bHe7NBsztm6F"
      }
    },
    {
      "cell_type": "code",
      "source": [
        "# acessing a 1 dimensional array\n",
        "print(\"First Element: \", arr[0])\n",
        "print(\"Last Element: \", arr[-1])"
      ],
      "metadata": {
        "colab": {
          "base_uri": "https://localhost:8080/"
        },
        "id": "o1aQAde3uoBq",
        "outputId": "05504c69-bf30-4068-9d01-3495f11b92b6"
      },
      "execution_count": 20,
      "outputs": [
        {
          "output_type": "stream",
          "name": "stdout",
          "text": [
            "First Element:  1\n",
            "Last Element:  4\n"
          ]
        }
      ]
    },
    {
      "cell_type": "code",
      "source": [
        "# acessing index 2 of first dimension and index 2 of second dimension\n",
        "print(\"2 : 2 \", rand_int[2][2])\n",
        "print(\"2 : 1 \", rand_int[0][2])"
      ],
      "metadata": {
        "colab": {
          "base_uri": "https://localhost:8080/"
        },
        "id": "l8JU5d7Vts_l",
        "outputId": "ff3c392c-e66e-4dbb-97a9-fe664a69ed1e"
      },
      "execution_count": 21,
      "outputs": [
        {
          "output_type": "stream",
          "name": "stdout",
          "text": [
            "2 : 2  48\n",
            "2 : 1  54\n"
          ]
        }
      ]
    },
    {
      "cell_type": "code",
      "source": [
        "# acessing a 3 dimensional array\n",
        "np.random.seed(42)\n",
        "three_dim_arr = np.random.randint(1, 100, size=(3, 4, 4))\n",
        "three_dim_arr"
      ],
      "metadata": {
        "colab": {
          "base_uri": "https://localhost:8080/"
        },
        "id": "WmTrf-HVvEnt",
        "outputId": "11b02594-d09b-41f8-bf99-92c13ba41846"
      },
      "execution_count": 22,
      "outputs": [
        {
          "output_type": "execute_result",
          "data": {
            "text/plain": [
              "array([[[52, 93, 15, 72],\n",
              "        [61, 21, 83, 87],\n",
              "        [75, 75, 88, 24],\n",
              "        [ 3, 22, 53,  2]],\n",
              "\n",
              "       [[88, 30, 38,  2],\n",
              "        [64, 60, 21, 33],\n",
              "        [76, 58, 22, 89],\n",
              "        [49, 91, 59, 42]],\n",
              "\n",
              "       [[92, 60, 80, 15],\n",
              "        [62, 62, 47, 62],\n",
              "        [51, 55, 64,  3],\n",
              "        [51,  7, 21, 73]]])"
            ]
          },
          "metadata": {},
          "execution_count": 22
        }
      ]
    },
    {
      "cell_type": "markdown",
      "source": [
        "### Array Slicing"
      ],
      "metadata": {
        "id": "aynh9825x6no"
      }
    },
    {
      "cell_type": "code",
      "source": [
        "three_dim_arr[:2]"
      ],
      "metadata": {
        "colab": {
          "base_uri": "https://localhost:8080/"
        },
        "id": "phUegxO-xd0k",
        "outputId": "663d166b-90ff-4baf-8b8c-13d10438f4f3"
      },
      "execution_count": 23,
      "outputs": [
        {
          "output_type": "execute_result",
          "data": {
            "text/plain": [
              "array([[[52, 93, 15, 72],\n",
              "        [61, 21, 83, 87],\n",
              "        [75, 75, 88, 24],\n",
              "        [ 3, 22, 53,  2]],\n",
              "\n",
              "       [[88, 30, 38,  2],\n",
              "        [64, 60, 21, 33],\n",
              "        [76, 58, 22, 89],\n",
              "        [49, 91, 59, 42]]])"
            ]
          },
          "metadata": {},
          "execution_count": 23
        }
      ]
    },
    {
      "cell_type": "code",
      "source": [
        "three_dim_arr[:2, :2, :2]"
      ],
      "metadata": {
        "colab": {
          "base_uri": "https://localhost:8080/"
        },
        "id": "8RCjE4IdwDPS",
        "outputId": "8a955d22-81d2-4b54-cf5d-c0df4eebb467"
      },
      "execution_count": 24,
      "outputs": [
        {
          "output_type": "execute_result",
          "data": {
            "text/plain": [
              "array([[[52, 93],\n",
              "        [61, 21]],\n",
              "\n",
              "       [[88, 30],\n",
              "        [64, 60]]])"
            ]
          },
          "metadata": {},
          "execution_count": 24
        }
      ]
    },
    {
      "cell_type": "code",
      "source": [
        "print(\"Equal to : \", three_dim_arr[three_dim_arr % 2 == 0])\n",
        "print(\"Greater than : \", three_dim_arr[three_dim_arr > 2])\n",
        "print(\"Less than : \", three_dim_arr[three_dim_arr < 4])"
      ],
      "metadata": {
        "colab": {
          "base_uri": "https://localhost:8080/"
        },
        "id": "10bd0xB8ydmR",
        "outputId": "31e2acd4-121b-41ef-b6cd-5f1f841d9e77"
      },
      "execution_count": 25,
      "outputs": [
        {
          "output_type": "stream",
          "name": "stdout",
          "text": [
            "Equal to :  [52 72 88 24 22  2 88 30 38  2 64 60 76 58 22 42 92 60 80 62 62 62 64]\n",
            "Greater than :  [52 93 15 72 61 21 83 87 75 75 88 24  3 22 53 88 30 38 64 60 21 33 76 58\n",
            " 22 89 49 91 59 42 92 60 80 15 62 62 47 62 51 55 64  3 51  7 21 73]\n",
            "Less than :  [3 2 2 3]\n"
          ]
        }
      ]
    },
    {
      "cell_type": "markdown",
      "source": [
        "### **Array Operations**\n",
        "> Basic Operation\n",
        "- Addition\n",
        "- Subtraction\n",
        "- Multiplication\n",
        "- Division\n",
        "\n",
        "> Statistical Operation\n",
        "- Mean\n",
        "- Median\n",
        "- Mode\n",
        "- sum\n",
        "- standard deviation\n",
        "- sum\n",
        "\n",
        "> Trigonometry Operation\n",
        "- sin\n",
        "- cosine\n",
        "- Tangent\n",
        "\n",
        "> Others\n",
        "- log\n",
        "- exponent\n",
        "- round\n",
        "- ceil\n",
        "- floor"
      ],
      "metadata": {
        "id": "BxlOJ0X_yPP5"
      }
    },
    {
      "cell_type": "markdown",
      "source": [
        "### **Simple Operation**"
      ],
      "metadata": {
        "id": "COcGhm4W3gHi"
      }
    },
    {
      "cell_type": "code",
      "source": [
        "op1 = np.array([1, 2, 3, 4])\n",
        "op2 = np.array([5, 6, 7, 8])"
      ],
      "metadata": {
        "id": "k-u_ya3B0wdF"
      },
      "execution_count": 26,
      "outputs": []
    },
    {
      "cell_type": "code",
      "source": [
        "# Addition\n",
        "\n",
        "print(\"Addition: \", op1 + op2)"
      ],
      "metadata": {
        "colab": {
          "base_uri": "https://localhost:8080/"
        },
        "id": "H1AezpJGyA67",
        "outputId": "c00bdfd0-29ad-41ff-dbe8-8d1845600034"
      },
      "execution_count": 27,
      "outputs": [
        {
          "output_type": "stream",
          "name": "stdout",
          "text": [
            "Addition:  [ 6  8 10 12]\n"
          ]
        }
      ]
    },
    {
      "cell_type": "code",
      "source": [
        "# Subtraction\n",
        "print(\"Subtraction: \", op1 - op2)"
      ],
      "metadata": {
        "colab": {
          "base_uri": "https://localhost:8080/"
        },
        "outputId": "d7b2b2ba-4041-46ee-9443-abe834596e6f",
        "id": "ZbepdnMe0z_D"
      },
      "execution_count": 28,
      "outputs": [
        {
          "output_type": "stream",
          "name": "stdout",
          "text": [
            "Subtraction:  [-4 -4 -4 -4]\n"
          ]
        }
      ]
    },
    {
      "cell_type": "code",
      "source": [
        "# Multiplication\n",
        "print(\"Multiplication: \", op1 * op2)"
      ],
      "metadata": {
        "colab": {
          "base_uri": "https://localhost:8080/"
        },
        "outputId": "c4070d9b-3ef4-463f-81b4-7616873bf667",
        "id": "nIGcBis318LQ"
      },
      "execution_count": 29,
      "outputs": [
        {
          "output_type": "stream",
          "name": "stdout",
          "text": [
            "Multiplication:  [ 5 12 21 32]\n"
          ]
        }
      ]
    },
    {
      "cell_type": "code",
      "source": [
        "# Division\n",
        "print(\"Multiplication: \", op1 / op2)"
      ],
      "metadata": {
        "colab": {
          "base_uri": "https://localhost:8080/"
        },
        "outputId": "21d19a6e-32d0-4fd3-cbe9-1b411c7198c0",
        "id": "CYqI3rAx2Ff_"
      },
      "execution_count": 30,
      "outputs": [
        {
          "output_type": "stream",
          "name": "stdout",
          "text": [
            "Multiplication:  [0.2        0.33333333 0.42857143 0.5       ]\n"
          ]
        }
      ]
    },
    {
      "cell_type": "code",
      "source": [
        "# Division\n",
        "print(\"Multiplication: \", op1 / op2)"
      ],
      "metadata": {
        "colab": {
          "base_uri": "https://localhost:8080/"
        },
        "outputId": "dd1e16f5-d984-44b5-c635-bbdaa0bcd8bd",
        "id": "tjjP5wJ62URA"
      },
      "execution_count": 31,
      "outputs": [
        {
          "output_type": "stream",
          "name": "stdout",
          "text": [
            "Multiplication:  [0.2        0.33333333 0.42857143 0.5       ]\n"
          ]
        }
      ]
    },
    {
      "cell_type": "code",
      "source": [
        "# Division\n",
        "print(\"Multiplication: \", op1 ** op2)"
      ],
      "metadata": {
        "colab": {
          "base_uri": "https://localhost:8080/"
        },
        "outputId": "00d35d1d-abed-40aa-c2c9-a1ef34ab0809",
        "id": "9pLX0zr82hph"
      },
      "execution_count": 32,
      "outputs": [
        {
          "output_type": "stream",
          "name": "stdout",
          "text": [
            "Multiplication:  [    1    64  2187 65536]\n"
          ]
        }
      ]
    },
    {
      "cell_type": "markdown",
      "source": [
        "### Matrix Multiplication"
      ],
      "metadata": {
        "id": "1ovURPV62p6k"
      }
    },
    {
      "cell_type": "code",
      "source": [
        "matrix_1 = np.array([\n",
        "    [1, 2, 3],\n",
        "    [4, 5, 6]\n",
        "])\n",
        "\n",
        "matrix_2 = np.array([\n",
        "    [7, 8],\n",
        "    [9, 10],\n",
        "    [11, 12]\n",
        "])\n"
      ],
      "metadata": {
        "id": "kajs_k5324hB"
      },
      "execution_count": 33,
      "outputs": []
    },
    {
      "cell_type": "code",
      "source": [
        "# matrix multiplication\n",
        "np.dot(matrix_1, matrix_2)"
      ],
      "metadata": {
        "colab": {
          "base_uri": "https://localhost:8080/"
        },
        "id": "slLxy_b13KxV",
        "outputId": "c7086d5d-8d13-4b5e-8f50-329e01363ef3"
      },
      "execution_count": 34,
      "outputs": [
        {
          "output_type": "execute_result",
          "data": {
            "text/plain": [
              "array([[ 58,  64],\n",
              "       [139, 154]])"
            ]
          },
          "metadata": {},
          "execution_count": 34
        }
      ]
    },
    {
      "cell_type": "code",
      "source": [
        "# matrix multiplication\n",
        "matrix_1 @ matrix_2"
      ],
      "metadata": {
        "colab": {
          "base_uri": "https://localhost:8080/"
        },
        "id": "Wz5LyyVZ3Kz6",
        "outputId": "e4c89741-d10b-49fb-f602-a8300d5ab1a7"
      },
      "execution_count": 35,
      "outputs": [
        {
          "output_type": "execute_result",
          "data": {
            "text/plain": [
              "array([[ 58,  64],\n",
              "       [139, 154]])"
            ]
          },
          "metadata": {},
          "execution_count": 35
        }
      ]
    },
    {
      "cell_type": "code",
      "source": [
        "# matrix multiplication\n",
        "matrix_1.dot(matrix_2)"
      ],
      "metadata": {
        "colab": {
          "base_uri": "https://localhost:8080/"
        },
        "id": "yMs6cRrf3UWu",
        "outputId": "7261f95b-353a-428b-a19f-a3de4a3df7e7"
      },
      "execution_count": 36,
      "outputs": [
        {
          "output_type": "execute_result",
          "data": {
            "text/plain": [
              "array([[ 58,  64],\n",
              "       [139, 154]])"
            ]
          },
          "metadata": {},
          "execution_count": 36
        }
      ]
    },
    {
      "cell_type": "markdown",
      "source": [
        "### **Statistical Operation**\n"
      ],
      "metadata": {
        "id": "vMhqf52-3lFb"
      }
    },
    {
      "cell_type": "code",
      "source": [
        "# mean\n",
        "np.random.seed(42)\n",
        "stat_arr = np.random.randint(1, 100, size=(100, 6))\n",
        "stat_arr"
      ],
      "metadata": {
        "colab": {
          "base_uri": "https://localhost:8080/"
        },
        "id": "8LIYn75w3rum",
        "outputId": "eb029e56-9c83-4c3e-f752-24e28a31a26e"
      },
      "execution_count": 37,
      "outputs": [
        {
          "output_type": "execute_result",
          "data": {
            "text/plain": [
              "array([[52, 93, 15, 72, 61, 21],\n",
              "       [83, 87, 75, 75, 88, 24],\n",
              "       [ 3, 22, 53,  2, 88, 30],\n",
              "       [38,  2, 64, 60, 21, 33],\n",
              "       [76, 58, 22, 89, 49, 91],\n",
              "       [59, 42, 92, 60, 80, 15],\n",
              "       [62, 62, 47, 62, 51, 55],\n",
              "       [64,  3, 51,  7, 21, 73],\n",
              "       [39, 18,  4, 89, 60, 14],\n",
              "       [ 9, 90, 53,  2, 84, 92],\n",
              "       [60, 71, 44,  8, 47, 35],\n",
              "       [78, 81, 36, 50,  4,  2],\n",
              "       [ 6, 54,  4, 54, 93, 63],\n",
              "       [18, 90, 44, 34, 74, 62],\n",
              "       [14, 95, 48, 15, 72, 78],\n",
              "       [87, 62, 40, 85, 80, 82],\n",
              "       [53, 24, 26, 89, 60, 41],\n",
              "       [29, 15, 45, 65, 89, 71],\n",
              "       [ 9, 88,  1,  8, 88, 63],\n",
              "       [11, 81,  8, 35, 35, 33],\n",
              "       [ 5, 41, 28,  7, 73, 72],\n",
              "       [12, 34, 33, 48, 23, 62],\n",
              "       [88, 37, 99, 44, 86, 91],\n",
              "       [35, 65, 99, 47, 78,  3],\n",
              "       [ 1,  5, 90, 14, 27,  9],\n",
              "       [79, 15, 90, 42, 77, 51],\n",
              "       [63, 96, 52, 96,  4, 94],\n",
              "       [23, 15, 43, 29, 36, 13],\n",
              "       [32, 71, 59, 86, 28, 66],\n",
              "       [42, 45, 62, 57,  6, 28],\n",
              "       [28, 44, 84, 30, 62, 75],\n",
              "       [92, 89, 62, 97,  1, 27],\n",
              "       [62, 77,  3, 70, 72, 27],\n",
              "       [ 9, 62, 37, 97, 51, 44],\n",
              "       [24, 79, 59, 32, 96, 88],\n",
              "       [52, 62, 58, 52, 12, 39],\n",
              "       [ 2,  3, 56, 81, 59,  2],\n",
              "       [ 2, 92, 54, 87, 96, 97],\n",
              "       [ 1, 19,  2, 53, 44, 90],\n",
              "       [32, 70, 32, 68, 55, 75],\n",
              "       [56, 17, 38, 24, 69, 98],\n",
              "       [70, 86, 11, 16, 97, 73],\n",
              "       [59, 70, 80, 93,  3, 20],\n",
              "       [59, 36, 19, 90, 67, 19],\n",
              "       [20, 96, 71, 52, 33, 40],\n",
              "       [39, 82,  1, 11, 92, 57],\n",
              "       [89, 50, 23, 31, 94, 42],\n",
              "       [99,  7, 16, 90, 60,  2],\n",
              "       [ 1, 48, 12, 69, 37, 32],\n",
              "       [ 9, 99, 19, 48, 80,  3],\n",
              "       [20, 24, 54, 33, 24, 75],\n",
              "       [72, 36, 38, 84, 99, 89],\n",
              "       [99, 25, 93, 18, 82, 66],\n",
              "       [54, 35, 80, 61, 41, 33],\n",
              "       [68, 33, 14, 21, 48, 20],\n",
              "       [ 8,  7, 67, 17, 33, 48],\n",
              "       [76, 59, 86, 22, 30, 38],\n",
              "       [51, 54,  8, 27, 27, 98],\n",
              "       [21, 30, 97, 28, 64, 97],\n",
              "       [69, 61, 48, 19,  4, 35],\n",
              "       [64, 49, 17, 44, 92, 30],\n",
              "       [93, 46,  6, 99, 37, 24],\n",
              "       [93, 46, 53, 95, 99, 60],\n",
              "       [97, 63, 85, 32, 87, 33],\n",
              "       [67, 18, 25, 95, 54, 58],\n",
              "       [67, 46, 24, 32, 47, 86],\n",
              "       [23, 66, 27,  2, 90, 17],\n",
              "       [33,  9, 43, 48, 39, 93],\n",
              "       [42, 26, 99, 50, 25, 24],\n",
              "       [13, 60,  7, 57, 36, 45],\n",
              "       [20, 65,  8, 16, 14, 76],\n",
              "       [87, 15, 92, 98, 66, 32],\n",
              "       [87, 63, 86, 51, 25, 58],\n",
              "       [63, 62, 22, 58, 58, 86],\n",
              "       [49, 52, 42, 70, 15, 54],\n",
              "       [60, 97,  8, 53, 60,  5],\n",
              "       [68,  6, 96, 94, 47, 99],\n",
              "       [55, 40, 52, 16, 13, 30],\n",
              "       [19, 17, 63, 19, 92, 58],\n",
              "       [55, 90, 90, 62, 23,  9],\n",
              "       [12,  1, 58,  1, 34, 96],\n",
              "       [48, 89,  1, 16, 61, 64],\n",
              "       [63, 69, 22, 93, 67, 76],\n",
              "       [26, 16, 51, 86, 57, 29],\n",
              "       [78, 92, 69, 47, 94, 62],\n",
              "       [69, 76, 16, 90, 90, 48],\n",
              "       [85, 39, 33, 94, 23, 10],\n",
              "       [69, 34, 52, 95, 10, 19],\n",
              "       [58, 96,  1, 69,  4, 16],\n",
              "       [24, 80,  2, 92, 32, 91],\n",
              "       [84, 24, 12, 50, 35, 33],\n",
              "       [33, 61, 51, 43, 12, 67],\n",
              "       [65, 33, 40, 74, 43, 44],\n",
              "       [29, 13, 12, 95, 46,  2],\n",
              "       [35, 87, 81, 90,  8, 93],\n",
              "       [26, 74, 90, 34,  7, 68],\n",
              "       [58, 75, 29, 36, 89, 21],\n",
              "       [36, 10, 73, 24, 64, 99],\n",
              "       [49, 99, 36, 82, 96, 24],\n",
              "       [23, 62, 96, 37, 12, 55]])"
            ]
          },
          "metadata": {},
          "execution_count": 37
        }
      ]
    },
    {
      "cell_type": "code",
      "source": [
        "# mean\n",
        "stat_arr.mean()"
      ],
      "metadata": {
        "colab": {
          "base_uri": "https://localhost:8080/"
        },
        "id": "-LQAwh8N3rye",
        "outputId": "2e3c1f25-8cff-432b-df14-1a0dc2a10c03"
      },
      "execution_count": 38,
      "outputs": [
        {
          "output_type": "execute_result",
          "data": {
            "text/plain": [
              "np.float64(49.86)"
            ]
          },
          "metadata": {},
          "execution_count": 38
        }
      ]
    },
    {
      "cell_type": "code",
      "source": [
        "# Median\n",
        "np.median(stat_arr)"
      ],
      "metadata": {
        "colab": {
          "base_uri": "https://localhost:8080/"
        },
        "id": "IWyIAOAc4K5g",
        "outputId": "1ca85b11-6e6c-4aa1-da95-15df7e6acc06"
      },
      "execution_count": 39,
      "outputs": [
        {
          "output_type": "execute_result",
          "data": {
            "text/plain": [
              "np.float64(50.5)"
            ]
          },
          "metadata": {},
          "execution_count": 39
        }
      ]
    },
    {
      "cell_type": "code",
      "source": [
        "import pandas as pd"
      ],
      "metadata": {
        "id": "FcOu9pWJ-n1J"
      },
      "execution_count": 40,
      "outputs": []
    },
    {
      "cell_type": "code",
      "source": [
        "pro = ['A', 'B', 'C', 'D']\n",
        "pro"
      ],
      "metadata": {
        "colab": {
          "base_uri": "https://localhost:8080/"
        },
        "id": "M8JhjR2_-rrp",
        "outputId": "fbe669e1-2bc8-42cc-b50a-ab819c4d14bf"
      },
      "execution_count": 41,
      "outputs": [
        {
          "output_type": "execute_result",
          "data": {
            "text/plain": [
              "['A', 'B', 'C', 'D']"
            ]
          },
          "metadata": {},
          "execution_count": 41
        }
      ]
    },
    {
      "cell_type": "code",
      "source": [
        "type(pro)"
      ],
      "metadata": {
        "colab": {
          "base_uri": "https://localhost:8080/"
        },
        "id": "rJiFzwl8-3bA",
        "outputId": "b415ca1f-a613-44cd-9ac0-f30884a5b8a6"
      },
      "execution_count": 42,
      "outputs": [
        {
          "output_type": "execute_result",
          "data": {
            "text/plain": [
              "list"
            ]
          },
          "metadata": {},
          "execution_count": 42
        }
      ]
    },
    {
      "cell_type": "code",
      "source": [
        "pro_catergoies = pd.Series(pro)"
      ],
      "metadata": {
        "id": "f_vibBGJ-6mx"
      },
      "execution_count": 43,
      "outputs": []
    },
    {
      "cell_type": "code",
      "source": [
        "pro_catergoies"
      ],
      "metadata": {
        "colab": {
          "base_uri": "https://localhost:8080/"
        },
        "id": "JYEGOBuC_Elq",
        "outputId": "166d1068-6261-4ad4-9a73-59e95ab59041"
      },
      "execution_count": 44,
      "outputs": [
        {
          "output_type": "execute_result",
          "data": {
            "text/plain": [
              "0    A\n",
              "1    B\n",
              "2    C\n",
              "3    D\n",
              "dtype: object"
            ],
            "text/html": [
              "<div>\n",
              "<style scoped>\n",
              "    .dataframe tbody tr th:only-of-type {\n",
              "        vertical-align: middle;\n",
              "    }\n",
              "\n",
              "    .dataframe tbody tr th {\n",
              "        vertical-align: top;\n",
              "    }\n",
              "\n",
              "    .dataframe thead th {\n",
              "        text-align: right;\n",
              "    }\n",
              "</style>\n",
              "<table border=\"1\" class=\"dataframe\">\n",
              "  <thead>\n",
              "    <tr style=\"text-align: right;\">\n",
              "      <th></th>\n",
              "      <th>0</th>\n",
              "    </tr>\n",
              "  </thead>\n",
              "  <tbody>\n",
              "    <tr>\n",
              "      <th>0</th>\n",
              "      <td>A</td>\n",
              "    </tr>\n",
              "    <tr>\n",
              "      <th>1</th>\n",
              "      <td>B</td>\n",
              "    </tr>\n",
              "    <tr>\n",
              "      <th>2</th>\n",
              "      <td>C</td>\n",
              "    </tr>\n",
              "    <tr>\n",
              "      <th>3</th>\n",
              "      <td>D</td>\n",
              "    </tr>\n",
              "  </tbody>\n",
              "</table>\n",
              "</div><br><label><b>dtype:</b> object</label>"
            ]
          },
          "metadata": {},
          "execution_count": 44
        }
      ]
    },
    {
      "cell_type": "code",
      "source": [
        "type(pro_catergoies)"
      ],
      "metadata": {
        "colab": {
          "base_uri": "https://localhost:8080/"
        },
        "id": "gVqh5P5RAGtz",
        "outputId": "26d6a974-58ff-4099-b081-95b868c98c09"
      },
      "execution_count": 46,
      "outputs": [
        {
          "output_type": "execute_result",
          "data": {
            "text/plain": [
              "pandas.core.series.Series"
            ],
            "text/html": [
              "<div style=\"max-width:800px; border: 1px solid var(--colab-border-color);\"><style>\n",
              "      pre.function-repr-contents {\n",
              "        overflow-x: auto;\n",
              "        padding: 8px 12px;\n",
              "        max-height: 500px;\n",
              "      }\n",
              "\n",
              "      pre.function-repr-contents.function-repr-contents-collapsed {\n",
              "        cursor: pointer;\n",
              "        max-height: 100px;\n",
              "      }\n",
              "    </style>\n",
              "    <pre style=\"white-space: initial; background:\n",
              "         var(--colab-secondary-surface-color); padding: 8px 12px;\n",
              "         border-bottom: 1px solid var(--colab-border-color);\"><b>pandas.core.series.Series</b><br/>def __init__(data=None, index=None, dtype: Dtype | None=None, name=None, copy: bool | None=None, fastpath: bool | lib.NoDefault=lib.no_default) -&gt; None</pre><pre class=\"function-repr-contents function-repr-contents-collapsed\" style=\"\"><a class=\"filepath\" style=\"display:none\" href=\"#\">/usr/local/lib/python3.11/dist-packages/pandas/core/series.py</a>One-dimensional ndarray with axis labels (including time series).\n",
              "\n",
              "Labels need not be unique but must be a hashable type. The object\n",
              "supports both integer- and label-based indexing and provides a host of\n",
              "methods for performing operations involving the index. Statistical\n",
              "methods from ndarray have been overridden to automatically exclude\n",
              "missing data (currently represented as NaN).\n",
              "\n",
              "Operations between Series (+, -, /, \\*, \\*\\*) align values based on their\n",
              "associated index values-- they need not be the same length. The result\n",
              "index will be the sorted union of the two indexes.\n",
              "\n",
              "Parameters\n",
              "----------\n",
              "data : array-like, Iterable, dict, or scalar value\n",
              "    Contains data stored in Series. If data is a dict, argument order is\n",
              "    maintained.\n",
              "index : array-like or Index (1d)\n",
              "    Values must be hashable and have the same length as `data`.\n",
              "    Non-unique index values are allowed. Will default to\n",
              "    RangeIndex (0, 1, 2, ..., n) if not provided. If data is dict-like\n",
              "    and index is None, then the keys in the data are used as the index. If the\n",
              "    index is not None, the resulting Series is reindexed with the index values.\n",
              "dtype : str, numpy.dtype, or ExtensionDtype, optional\n",
              "    Data type for the output Series. If not specified, this will be\n",
              "    inferred from `data`.\n",
              "    See the :ref:`user guide &lt;basics.dtypes&gt;` for more usages.\n",
              "name : Hashable, default None\n",
              "    The name to give to the Series.\n",
              "copy : bool, default False\n",
              "    Copy input data. Only affects Series or 1d ndarray input. See examples.\n",
              "\n",
              "Notes\n",
              "-----\n",
              "Please reference the :ref:`User Guide &lt;basics.series&gt;` for more information.\n",
              "\n",
              "Examples\n",
              "--------\n",
              "Constructing Series from a dictionary with an Index specified\n",
              "\n",
              "&gt;&gt;&gt; d = {&#x27;a&#x27;: 1, &#x27;b&#x27;: 2, &#x27;c&#x27;: 3}\n",
              "&gt;&gt;&gt; ser = pd.Series(data=d, index=[&#x27;a&#x27;, &#x27;b&#x27;, &#x27;c&#x27;])\n",
              "&gt;&gt;&gt; ser\n",
              "a   1\n",
              "b   2\n",
              "c   3\n",
              "dtype: int64\n",
              "\n",
              "The keys of the dictionary match with the Index values, hence the Index\n",
              "values have no effect.\n",
              "\n",
              "&gt;&gt;&gt; d = {&#x27;a&#x27;: 1, &#x27;b&#x27;: 2, &#x27;c&#x27;: 3}\n",
              "&gt;&gt;&gt; ser = pd.Series(data=d, index=[&#x27;x&#x27;, &#x27;y&#x27;, &#x27;z&#x27;])\n",
              "&gt;&gt;&gt; ser\n",
              "x   NaN\n",
              "y   NaN\n",
              "z   NaN\n",
              "dtype: float64\n",
              "\n",
              "Note that the Index is first build with the keys from the dictionary.\n",
              "After this the Series is reindexed with the given Index values, hence we\n",
              "get all NaN as a result.\n",
              "\n",
              "Constructing Series from a list with `copy=False`.\n",
              "\n",
              "&gt;&gt;&gt; r = [1, 2]\n",
              "&gt;&gt;&gt; ser = pd.Series(r, copy=False)\n",
              "&gt;&gt;&gt; ser.iloc[0] = 999\n",
              "&gt;&gt;&gt; r\n",
              "[1, 2]\n",
              "&gt;&gt;&gt; ser\n",
              "0    999\n",
              "1      2\n",
              "dtype: int64\n",
              "\n",
              "Due to input data type the Series has a `copy` of\n",
              "the original data even though `copy=False`, so\n",
              "the data is unchanged.\n",
              "\n",
              "Constructing Series from a 1d ndarray with `copy=False`.\n",
              "\n",
              "&gt;&gt;&gt; r = np.array([1, 2])\n",
              "&gt;&gt;&gt; ser = pd.Series(r, copy=False)\n",
              "&gt;&gt;&gt; ser.iloc[0] = 999\n",
              "&gt;&gt;&gt; r\n",
              "array([999,   2])\n",
              "&gt;&gt;&gt; ser\n",
              "0    999\n",
              "1      2\n",
              "dtype: int64\n",
              "\n",
              "Due to input data type the Series has a `view` on\n",
              "the original data, so\n",
              "the data is changed as well.</pre>\n",
              "      <script>\n",
              "      if (google.colab.kernel.accessAllowed && google.colab.files && google.colab.files.view) {\n",
              "        for (const element of document.querySelectorAll('.filepath')) {\n",
              "          element.style.display = 'block'\n",
              "          element.onclick = (event) => {\n",
              "            event.preventDefault();\n",
              "            event.stopPropagation();\n",
              "            google.colab.files.view(element.textContent, 263);\n",
              "          };\n",
              "        }\n",
              "      }\n",
              "      for (const element of document.querySelectorAll('.function-repr-contents')) {\n",
              "        element.onclick = (event) => {\n",
              "          event.preventDefault();\n",
              "          event.stopPropagation();\n",
              "          element.classList.toggle('function-repr-contents-collapsed');\n",
              "        };\n",
              "      }\n",
              "      </script>\n",
              "      </div>"
            ]
          },
          "metadata": {},
          "execution_count": 46
        }
      ]
    },
    {
      "cell_type": "code",
      "source": [],
      "metadata": {
        "id": "BbSOWuppEJyn"
      },
      "execution_count": 45,
      "outputs": []
    }
  ]
}