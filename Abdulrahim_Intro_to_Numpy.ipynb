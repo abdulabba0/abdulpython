{
  "nbformat": 4,
  "nbformat_minor": 0,
  "metadata": {
    "colab": {
      "provenance": [],
      "authorship_tag": "ABX9TyPJhkB2db381BtYzAXJdxlM",
      "include_colab_link": true
    },
    "kernelspec": {
      "name": "python3",
      "display_name": "Python 3"
    },
    "language_info": {
      "name": "python"
    }
  },
  "cells": [
    {
      "cell_type": "markdown",
      "metadata": {
        "id": "view-in-github",
        "colab_type": "text"
      },
      "source": [
        "<a href=\"https://colab.research.google.com/github/abdulabba0/abdulpython/blob/main/Abdulrahim_Intro_to_Numpy.ipynb\" target=\"_parent\"><img src=\"https://colab.research.google.com/assets/colab-badge.svg\" alt=\"Open In Colab\"/></a>"
      ]
    },
    {
      "cell_type": "markdown",
      "source": [
        "# **Introduction to Numpy for Data Analytics**\n",
        "\n",
        ">## **What is Numpy**\n",
        "Numpy stands for Numerical Python, is is a fundamental library for numerical computing in python. It provide support for large multidimensional array and matrices, along with an extensive collection of mathematical functions to perform operations efficiently.\n",
        "\n",
        "Numpy is widely use in Data analytics and Finance, engineering, etc."
      ],
      "metadata": {
        "id": "kKUmAhwS2H2E"
      }
    },
    {
      "cell_type": "code",
      "execution_count": null,
      "metadata": {
        "colab": {
          "base_uri": "https://localhost:8080/",
          "height": 35
        },
        "id": "jdO_e5wSw_M7",
        "outputId": "5ad4a5ad-4b5f-4557-aa42-da753049f9f5"
      },
      "outputs": [
        {
          "output_type": "execute_result",
          "data": {
            "text/plain": [
              "'2.0.2'"
            ],
            "application/vnd.google.colaboratory.intrinsic+json": {
              "type": "string"
            }
          },
          "metadata": {},
          "execution_count": 2
        }
      ],
      "source": [
        "import numpy as np\n",
        "\n",
        "np.__version__"
      ]
    },
    {
      "cell_type": "markdown",
      "source": [
        "## Creating a Numpy Array"
      ],
      "metadata": {
        "id": "BFOmiQ-R4dEK"
      }
    },
    {
      "cell_type": "code",
      "source": [
        "# Basic numpy Array\n",
        "# creating a numpy array\n",
        "\n",
        "arr = np.array([1,2,3,4])\n",
        "arr"
      ],
      "metadata": {
        "colab": {
          "base_uri": "https://localhost:8080/"
        },
        "id": "SeNKWdfU3mc3",
        "outputId": "1a7c50e1-58c1-4fe9-b7fa-9c21772aa698"
      },
      "execution_count": null,
      "outputs": [
        {
          "output_type": "execute_result",
          "data": {
            "text/plain": [
              "array([1, 2, 3, 4])"
            ]
          },
          "metadata": {},
          "execution_count": 3
        }
      ]
    },
    {
      "cell_type": "markdown",
      "source": [
        "Array Properties"
      ],
      "metadata": {
        "id": "JXZOpDhj4y_l"
      }
    },
    {
      "cell_type": "code",
      "source": [
        "# Checking the shape of the Array\n",
        "print(f\"The shape of the array is {arr.shape}\")\n",
        "print(f\"Array dimension is {arr.ndim}\")\n",
        "print(f\"Data type of the array is {arr.dtype}\")"
      ],
      "metadata": {
        "colab": {
          "base_uri": "https://localhost:8080/"
        },
        "id": "z5tXY_rM4xJf",
        "outputId": "a06d0353-502b-423e-a6b1-66c65d726e48"
      },
      "execution_count": null,
      "outputs": [
        {
          "output_type": "stream",
          "name": "stdout",
          "text": [
            "The shape of the array is (4,)\n",
            "Array dimension is 1\n",
            "Data type of the array is int64\n"
          ]
        }
      ]
    },
    {
      "cell_type": "code",
      "source": [
        "arr2 = np.array([[[1,2,3,4],\n",
        "                [5,6,7,8],\n",
        "                [9,10,11,12]\n",
        "                 ]])"
      ],
      "metadata": {
        "id": "bPvywsZO5Ohe"
      },
      "execution_count": null,
      "outputs": []
    },
    {
      "cell_type": "code",
      "source": [
        "print(f\"The shape of the array is {arr2.shape}\")\n",
        "print(f\"Array dimension is {arr2.ndim}\")"
      ],
      "metadata": {
        "colab": {
          "base_uri": "https://localhost:8080/"
        },
        "id": "Jb8c3fFS6kmC",
        "outputId": "670b6a85-9729-4abb-8940-ec9d5770833d"
      },
      "execution_count": null,
      "outputs": [
        {
          "output_type": "stream",
          "name": "stdout",
          "text": [
            "The shape of the array is (1, 3, 4)\n",
            "Array dimension is 3\n"
          ]
        }
      ]
    },
    {
      "cell_type": "markdown",
      "source": [
        "# **Different ways of creating an Array in Numpy**"
      ],
      "metadata": {
        "id": "rQdu-QT49O-E"
      }
    },
    {
      "cell_type": "code",
      "source": [
        "# creating an array of zeros\n",
        "np.zeros([3,3])"
      ],
      "metadata": {
        "colab": {
          "base_uri": "https://localhost:8080/"
        },
        "id": "Mx4HZOHQ6oZg",
        "outputId": "ca765b4b-3cdc-4fec-941c-0375725668ed"
      },
      "execution_count": null,
      "outputs": [
        {
          "output_type": "execute_result",
          "data": {
            "text/plain": [
              "array([[0., 0., 0.],\n",
              "       [0., 0., 0.],\n",
              "       [0., 0., 0.]])"
            ]
          },
          "metadata": {},
          "execution_count": 7
        }
      ]
    },
    {
      "cell_type": "code",
      "source": [
        "# creating an array of ones\n",
        "np.ones([2,2])"
      ],
      "metadata": {
        "colab": {
          "base_uri": "https://localhost:8080/"
        },
        "id": "GY6gUrx29deg",
        "outputId": "ccf4543e-c0e5-4cb4-8ee6-5fa127716626"
      },
      "execution_count": null,
      "outputs": [
        {
          "output_type": "execute_result",
          "data": {
            "text/plain": [
              "array([[1., 1.],\n",
              "       [1., 1.]])"
            ]
          },
          "metadata": {},
          "execution_count": 8
        }
      ]
    },
    {
      "cell_type": "code",
      "source": [
        "# creating a range of arrays\n",
        "np.arange(1,100,5,)"
      ],
      "metadata": {
        "colab": {
          "base_uri": "https://localhost:8080/"
        },
        "id": "n2vduXbB95R9",
        "outputId": "adef10b4-72fb-4569-9037-4a329931e3d3"
      },
      "execution_count": null,
      "outputs": [
        {
          "output_type": "execute_result",
          "data": {
            "text/plain": [
              "array([ 1,  6, 11, 16, 21, 26, 31, 36, 41, 46, 51, 56, 61, 66, 71, 76, 81,\n",
              "       86, 91, 96])"
            ]
          },
          "metadata": {},
          "execution_count": 9
        }
      ]
    },
    {
      "cell_type": "code",
      "source": [
        "# creating an evenly space array\n",
        "np.linspace(0,1, num=5)"
      ],
      "metadata": {
        "colab": {
          "base_uri": "https://localhost:8080/"
        },
        "id": "of32WjqZ-V9A",
        "outputId": "ab475d5c-0144-4a75-983c-592d2637d663"
      },
      "execution_count": null,
      "outputs": [
        {
          "output_type": "execute_result",
          "data": {
            "text/plain": [
              "array([0.  , 0.25, 0.5 , 0.75, 1.  ])"
            ]
          },
          "metadata": {},
          "execution_count": 10
        }
      ]
    },
    {
      "cell_type": "code",
      "source": [
        "# creating a numpy array using python\n",
        "\n",
        "py_list = [1,2,3,4,5]\n",
        "np_list = np.array(py_list)\n",
        "print(\"Data type: \", np_list.dtype)\n",
        "print(\"Checking data type using python \", type(np_list))"
      ],
      "metadata": {
        "id": "aPXxpNu6-_Ou",
        "colab": {
          "base_uri": "https://localhost:8080/"
        },
        "outputId": "3afadee4-7740-40de-b2b3-3b2c6fc1860c"
      },
      "execution_count": null,
      "outputs": [
        {
          "output_type": "stream",
          "name": "stdout",
          "text": [
            "Data type:  int64\n",
            "Checking data type using python  <class 'numpy.ndarray'>\n"
          ]
        }
      ]
    },
    {
      "cell_type": "code",
      "source": [
        "# creating a numpy array using python\n",
        "\n",
        "py_list = [1,2,3,4,5]\n",
        "np_list = np.array(py_list)\n",
        "print(\"Data type: \", np_list.dtype)\n",
        "print(\"Checking data type using python \", type(np_list))"
      ],
      "metadata": {
        "colab": {
          "base_uri": "https://localhost:8080/"
        },
        "id": "1-jEinQtre9W",
        "outputId": "5a7b8ba4-e337-4faa-809b-06f44fa3e7dc"
      },
      "execution_count": null,
      "outputs": [
        {
          "output_type": "stream",
          "name": "stdout",
          "text": [
            "Data type:  int64\n",
            "Checking data type using python  <class 'numpy.ndarray'>\n"
          ]
        }
      ]
    },
    {
      "cell_type": "code",
      "source": [
        "# creating a numpy array using python tuple\n",
        "\n",
        "py_list = [1,2,3,4,5]\n",
        "np_list = np.array(py_list)\n",
        "print(\"Data type: \", np_list.dtype)\n",
        "print(\"Checking data type using python tuple \", type(np_list))"
      ],
      "metadata": {
        "id": "MlAXcOyqromi"
      },
      "execution_count": null,
      "outputs": []
    },
    {
      "cell_type": "code",
      "source": [
        "# creating an array using python random module\n",
        "\n",
        "rand_mod = np.random.random()\n",
        "rand_mod"
      ],
      "metadata": {
        "colab": {
          "base_uri": "https://localhost:8080/"
        },
        "id": "1j70zOuAsApS",
        "outputId": "541232e8-90ed-48ae-dd10-f42443ed5ffa"
      },
      "execution_count": null,
      "outputs": [
        {
          "output_type": "execute_result",
          "data": {
            "text/plain": [
              "0.013144711620482585"
            ]
          },
          "metadata": {},
          "execution_count": 13
        }
      ]
    },
    {
      "cell_type": "code",
      "source": [
        "multidim_random = np.random.random((3,3))\n",
        "multidim_random"
      ],
      "metadata": {
        "colab": {
          "base_uri": "https://localhost:8080/"
        },
        "id": "h4PILUS3sXw4",
        "outputId": "0bbbe7ac-fd90-4377-d7ee-588a9fe4b28a"
      },
      "execution_count": null,
      "outputs": [
        {
          "output_type": "execute_result",
          "data": {
            "text/plain": [
              "array([[0.00636552, 0.58939741, 0.47137764],\n",
              "       [0.01816593, 0.43574166, 0.8259774 ],\n",
              "       [0.26904671, 0.01536015, 0.02785341]])"
            ]
          },
          "metadata": {},
          "execution_count": 14
        }
      ]
    },
    {
      "cell_type": "code",
      "source": [
        "rand_int = np.random.randint(1, 100, size=(3, 3))\n",
        "rand_int"
      ],
      "metadata": {
        "colab": {
          "base_uri": "https://localhost:8080/"
        },
        "id": "lf6EsKuHsnN2",
        "outputId": "5729fc5b-31d3-4791-970a-3a206135600c"
      },
      "execution_count": null,
      "outputs": [
        {
          "output_type": "execute_result",
          "data": {
            "text/plain": [
              "array([[27, 28, 35],\n",
              "       [30,  9, 49],\n",
              "       [ 8, 30,  7]])"
            ]
          },
          "metadata": {},
          "execution_count": 15
        }
      ]
    },
    {
      "cell_type": "code",
      "source": [
        "np.random.random_sample((4,3))\n"
      ],
      "metadata": {
        "colab": {
          "base_uri": "https://localhost:8080/"
        },
        "id": "NxmOXTLIs0IK",
        "outputId": "c186a783-17b9-47da-8406-314b055602b4"
      },
      "execution_count": null,
      "outputs": [
        {
          "output_type": "execute_result",
          "data": {
            "text/plain": [
              "array([[0.38517554, 0.28137238, 0.56418647],\n",
              "       [0.71425513, 0.19257837, 0.41346153],\n",
              "       [0.72113228, 0.0523913 , 0.90983306],\n",
              "       [0.7565323 , 0.24714587, 0.53718435]])"
            ]
          },
          "metadata": {},
          "execution_count": 16
        }
      ]
    },
    {
      "cell_type": "code",
      "source": [
        "# using np.full\n",
        "full_array = np.full((3,3), 5)\n",
        "full_array"
      ],
      "metadata": {
        "colab": {
          "base_uri": "https://localhost:8080/"
        },
        "id": "tMtDSn-0tDhI",
        "outputId": "69f53d73-96a3-45c5-9032-8198001d2a30"
      },
      "execution_count": null,
      "outputs": [
        {
          "output_type": "execute_result",
          "data": {
            "text/plain": [
              "array([[5, 5, 5],\n",
              "       [5, 5, 5],\n",
              "       [5, 5, 5]])"
            ]
          },
          "metadata": {},
          "execution_count": 17
        }
      ]
    },
    {
      "cell_type": "markdown",
      "source": [],
      "metadata": {
        "id": "s255bGQ0tk1n"
      }
    },
    {
      "cell_type": "markdown",
      "source": [
        "## **Array Indexing and Slicing**"
      ],
      "metadata": {
        "id": "USx5dbAstrqQ"
      }
    },
    {
      "cell_type": "code",
      "source": [
        "arr"
      ],
      "metadata": {
        "colab": {
          "base_uri": "https://localhost:8080/"
        },
        "id": "rs30BNAvumio",
        "outputId": "d054f5aa-a47a-4bc1-f012-aa37bafe6cae"
      },
      "execution_count": null,
      "outputs": [
        {
          "output_type": "execute_result",
          "data": {
            "text/plain": [
              "array([1, 2, 3, 4])"
            ]
          },
          "metadata": {},
          "execution_count": 21
        }
      ]
    },
    {
      "cell_type": "code",
      "source": [],
      "metadata": {
        "id": "xgC9bWbEuyih"
      },
      "execution_count": null,
      "outputs": []
    },
    {
      "cell_type": "markdown",
      "source": [],
      "metadata": {
        "id": "wxADfp5Nul1L"
      }
    },
    {
      "cell_type": "code",
      "source": [
        "# Indexing\n",
        "print(\"2 : 2 \", rand_int[2][2])\n",
        "print(\"2 : 2 \", rand_int[2][0])"
      ],
      "metadata": {
        "colab": {
          "base_uri": "https://localhost:8080/"
        },
        "id": "MiFeROe3tyKO",
        "outputId": "7776db2a-2022-4a03-8210-cfa44d8982f6"
      },
      "execution_count": null,
      "outputs": [
        {
          "output_type": "stream",
          "name": "stdout",
          "text": [
            "2 : 2  7\n",
            "2 : 2  8\n"
          ]
        }
      ]
    },
    {
      "cell_type": "code",
      "source": [
        "# accessing 3 dimensional array\n",
        "np.random.seed(42) # keep the number for that much times\n",
        "three_dim_arr = np.random.randint(1, 100, size=(3,4,4))\n",
        "three_dim_arr"
      ],
      "metadata": {
        "colab": {
          "base_uri": "https://localhost:8080/"
        },
        "id": "p_gt0e0huIsQ",
        "outputId": "4faa1449-415c-4b3a-a243-ea201c3163d6"
      },
      "execution_count": null,
      "outputs": [
        {
          "output_type": "execute_result",
          "data": {
            "text/plain": [
              "array([[[52, 93, 15, 72],\n",
              "        [61, 21, 83, 87],\n",
              "        [75, 75, 88, 24],\n",
              "        [ 3, 22, 53,  2]],\n",
              "\n",
              "       [[88, 30, 38,  2],\n",
              "        [64, 60, 21, 33],\n",
              "        [76, 58, 22, 89],\n",
              "        [49, 91, 59, 42]],\n",
              "\n",
              "       [[92, 60, 80, 15],\n",
              "        [62, 62, 47, 62],\n",
              "        [51, 55, 64,  3],\n",
              "        [51,  7, 21, 73]]])"
            ]
          },
          "metadata": {},
          "execution_count": 29
        }
      ]
    },
    {
      "cell_type": "code",
      "source": [
        "# Slicing\n",
        "three_dim_arr[:2, :2, :2]"
      ],
      "metadata": {
        "colab": {
          "base_uri": "https://localhost:8080/"
        },
        "id": "UQQ5kqG5vXlg",
        "outputId": "82b16f7b-f9a1-48e9-a60d-8bf586ac6fe8"
      },
      "execution_count": null,
      "outputs": [
        {
          "output_type": "execute_result",
          "data": {
            "text/plain": [
              "array([[[52, 93],\n",
              "        [61, 21]],\n",
              "\n",
              "       [[88, 30],\n",
              "        [64, 60]]])"
            ]
          },
          "metadata": {},
          "execution_count": 37
        }
      ]
    },
    {
      "cell_type": "code",
      "source": [
        "# three_dim_arr[three_dim_arr % 2 == 0]\n",
        "three_dim_arr[three_dim_arr > 10]"
      ],
      "metadata": {
        "colab": {
          "base_uri": "https://localhost:8080/"
        },
        "id": "4X1Oi_Btyd6s",
        "outputId": "55816027-32e6-46eb-cd13-1f0684c90c8e"
      },
      "execution_count": null,
      "outputs": [
        {
          "output_type": "execute_result",
          "data": {
            "text/plain": [
              "array([52, 93, 15, 72, 61, 21, 83, 87, 75, 75, 88, 24, 22, 53, 88, 30, 38,\n",
              "       64, 60, 21, 33, 76, 58, 22, 89, 49, 91, 59, 42, 92, 60, 80, 15, 62,\n",
              "       62, 47, 62, 51, 55, 64, 51, 21, 73])"
            ]
          },
          "metadata": {},
          "execution_count": 41
        }
      ]
    },
    {
      "cell_type": "markdown",
      "source": [
        "### Array Operations\n",
        "\n",
        ">Basic Operation\n",
        "*   Addition\n",
        "*   Subtraction\n",
        "*   Multiplication\n",
        "*   Division\n",
        "*   Exponent\n",
        "\n",
        ">Statistal Operations\n",
        "*   Mean\n",
        "*   Median\n",
        "*   Mode\n",
        "*   Sum\n",
        "*   Standard deviation\n",
        "\n",
        ">Trigonometry Operations\n",
        "*   Sin\n",
        "*   Cosine\n",
        "*   Tangent\n",
        "\n",
        ">Others\n",
        "\n",
        "*   floor\n",
        "\n",
        "\n",
        "\n",
        "\n",
        "\n",
        "\n",
        "\n"
      ],
      "metadata": {
        "id": "mLY1FR-hx-Ua"
      }
    },
    {
      "cell_type": "code",
      "source": [],
      "metadata": {
        "id": "-dAYB5ev2JTX"
      },
      "execution_count": null,
      "outputs": []
    },
    {
      "cell_type": "code",
      "source": [
        "#Addition\n",
        "print(\"Addition \", three_dim_arr + 4)\n",
        "\n",
        "#Subtraction\n",
        "print(\"Subtraction \", three_dim_arr - 10)\n",
        "\n",
        "#Multiplication\n",
        "print(\"Multiplication \", three_dim_arr * 2)\n",
        "\n",
        "#Division\n",
        "print(\"Division \", three_dim_arr / 2)\n",
        "\n",
        "# np.dot is also mulitiplication\n",
        "# @ is also mulitiplication"
      ],
      "metadata": {
        "colab": {
          "base_uri": "https://localhost:8080/"
        },
        "id": "AkCbsndnwBUj",
        "outputId": "dbcb1c8e-54fe-420f-b17d-d0598cfe97b7"
      },
      "execution_count": null,
      "outputs": [
        {
          "output_type": "stream",
          "name": "stdout",
          "text": [
            "Addition  [[[56 97 19 76]\n",
            "  [65 25 87 91]\n",
            "  [79 79 92 28]\n",
            "  [ 7 26 57  6]]\n",
            "\n",
            " [[92 34 42  6]\n",
            "  [68 64 25 37]\n",
            "  [80 62 26 93]\n",
            "  [53 95 63 46]]\n",
            "\n",
            " [[96 64 84 19]\n",
            "  [66 66 51 66]\n",
            "  [55 59 68  7]\n",
            "  [55 11 25 77]]]\n",
            "Subtraction  [[[42 83  5 62]\n",
            "  [51 11 73 77]\n",
            "  [65 65 78 14]\n",
            "  [-7 12 43 -8]]\n",
            "\n",
            " [[78 20 28 -8]\n",
            "  [54 50 11 23]\n",
            "  [66 48 12 79]\n",
            "  [39 81 49 32]]\n",
            "\n",
            " [[82 50 70  5]\n",
            "  [52 52 37 52]\n",
            "  [41 45 54 -7]\n",
            "  [41 -3 11 63]]]\n",
            "Multiplication  [[[104 186  30 144]\n",
            "  [122  42 166 174]\n",
            "  [150 150 176  48]\n",
            "  [  6  44 106   4]]\n",
            "\n",
            " [[176  60  76   4]\n",
            "  [128 120  42  66]\n",
            "  [152 116  44 178]\n",
            "  [ 98 182 118  84]]\n",
            "\n",
            " [[184 120 160  30]\n",
            "  [124 124  94 124]\n",
            "  [102 110 128   6]\n",
            "  [102  14  42 146]]]\n",
            "Division  [[[26.  46.5  7.5 36. ]\n",
            "  [30.5 10.5 41.5 43.5]\n",
            "  [37.5 37.5 44.  12. ]\n",
            "  [ 1.5 11.  26.5  1. ]]\n",
            "\n",
            " [[44.  15.  19.   1. ]\n",
            "  [32.  30.  10.5 16.5]\n",
            "  [38.  29.  11.  44.5]\n",
            "  [24.5 45.5 29.5 21. ]]\n",
            "\n",
            " [[46.  30.  40.   7.5]\n",
            "  [31.  31.  23.5 31. ]\n",
            "  [25.5 27.5 32.   1.5]\n",
            "  [25.5  3.5 10.5 36.5]]]\n"
          ]
        }
      ]
    },
    {
      "cell_type": "markdown",
      "source": [
        "### Statistical Operations"
      ],
      "metadata": {
        "id": "twmQSzI13kbk"
      }
    },
    {
      "cell_type": "code",
      "source": [
        "np.random.seed(100)\n",
        "matrix = np.random.randint(1, 100, size=(3,3))\n",
        "print(matrix)"
      ],
      "metadata": {
        "colab": {
          "base_uri": "https://localhost:8080/"
        },
        "id": "tB8VXjX4zc5J",
        "outputId": "23a3de7a-1361-4f91-a5bd-4c39b2b18b01"
      },
      "execution_count": null,
      "outputs": [
        {
          "output_type": "stream",
          "name": "stdout",
          "text": [
            "[[ 9 25 68]\n",
            " [88 80 49]\n",
            " [11 95 53]]\n"
          ]
        }
      ]
    },
    {
      "cell_type": "code",
      "source": [
        "# Mean\n",
        "matrix.mean()"
      ],
      "metadata": {
        "colab": {
          "base_uri": "https://localhost:8080/"
        },
        "id": "ay4rXjuD30gU",
        "outputId": "63c5aef1-54f3-430d-fd61-2881b67d1d49"
      },
      "execution_count": null,
      "outputs": [
        {
          "output_type": "execute_result",
          "data": {
            "text/plain": [
              "np.float64(53.111111111111114)"
            ]
          },
          "metadata": {},
          "execution_count": 50
        }
      ]
    },
    {
      "cell_type": "code",
      "source": [
        "np.median(matrix)"
      ],
      "metadata": {
        "colab": {
          "base_uri": "https://localhost:8080/"
        },
        "id": "gr_24bkO4KGh",
        "outputId": "dd10227d-a416-4b22-e5a3-73739685fa2f"
      },
      "execution_count": null,
      "outputs": [
        {
          "output_type": "execute_result",
          "data": {
            "text/plain": [
              "np.float64(53.0)"
            ]
          },
          "metadata": {},
          "execution_count": 54
        }
      ]
    },
    {
      "cell_type": "code",
      "source": [],
      "metadata": {
        "id": "H8UFrCsp4RJL"
      },
      "execution_count": null,
      "outputs": []
    }
  ]
}